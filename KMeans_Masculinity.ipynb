{
  "nbformat": 4,
  "nbformat_minor": 0,
  "metadata": {
    "colab": {
      "name": "KMeans-Masculinity.ipynb",
      "provenance": [],
      "collapsed_sections": [],
      "authorship_tag": "ABX9TyPqporD/nDwXhA44TZMcbxg",
      "include_colab_link": true
    },
    "kernelspec": {
      "name": "python3",
      "display_name": "Python 3"
    },
    "language_info": {
      "name": "python"
    }
  },
  "cells": [
    {
      "cell_type": "markdown",
      "metadata": {
        "id": "view-in-github",
        "colab_type": "text"
      },
      "source": [
        "<a href=\"https://colab.research.google.com/github/princeKike27/KMeans-Masculinity/blob/main/KMeans_Masculinity.ipynb\" target=\"_parent\"><img src=\"https://colab.research.google.com/assets/colab-badge.svg\" alt=\"Open In Colab\"/></a>"
      ]
    },
    {
      "cell_type": "markdown",
      "metadata": {
        "id": "cx8xC8HhLiaS"
      },
      "source": [
        "# KMeans - Masculinity\n",
        "\n",
        "For this project I analyzed from *FiveThirtyEight* about the way people think about masculinity. It was based on a survey that asks 1189 men different questions in different categories like habits, preferences, daily routines, hobbies, gender, education, sexual orientation, race and age. In that sense, using the KMeans Algorithm I created a classifier that clusters the data of a question and tries to see if they are based on traditional masculine concepts. "
      ]
    },
    {
      "cell_type": "markdown",
      "metadata": {
        "id": "_847a2EnM9aV"
      },
      "source": [
        "![purple-divider](https://user-images.githubusercontent.com/7065401/52071927-c1cd7100-2562-11e9-908a-dde91ba14e59.png)"
      ]
    },
    {
      "cell_type": "code",
      "metadata": {
        "id": "A_wJFH2GLeVL"
      },
      "source": [
        "# import modules\n",
        "import pandas as pd\n",
        "import numpy as np\n",
        "import matplotlib.pyplot as plt\n",
        "import seaborn as sns"
      ],
      "execution_count": 1,
      "outputs": []
    },
    {
      "cell_type": "code",
      "metadata": {
        "colab": {
          "base_uri": "https://localhost:8080/",
          "height": 401
        },
        "id": "bFGJFZU7OQ8w",
        "outputId": "20d48ab2-57cb-4d6a-9c3a-5f084ac5cd74"
      },
      "source": [
        "# load data\n",
        "df_survey = pd.read_csv('https://raw.githubusercontent.com/princeKike27/KMeans-Masculinity/main/masculinity.csv')\n",
        "\n",
        "df_survey.head(3)"
      ],
      "execution_count": 2,
      "outputs": [
        {
          "output_type": "execute_result",
          "data": {
            "text/html": [
              "<div>\n",
              "<style scoped>\n",
              "    .dataframe tbody tr th:only-of-type {\n",
              "        vertical-align: middle;\n",
              "    }\n",
              "\n",
              "    .dataframe tbody tr th {\n",
              "        vertical-align: top;\n",
              "    }\n",
              "\n",
              "    .dataframe thead th {\n",
              "        text-align: right;\n",
              "    }\n",
              "</style>\n",
              "<table border=\"1\" class=\"dataframe\">\n",
              "  <thead>\n",
              "    <tr style=\"text-align: right;\">\n",
              "      <th></th>\n",
              "      <th>Unnamed: 0</th>\n",
              "      <th>StartDate</th>\n",
              "      <th>EndDate</th>\n",
              "      <th>q0001</th>\n",
              "      <th>q0002</th>\n",
              "      <th>q0004_0001</th>\n",
              "      <th>q0004_0002</th>\n",
              "      <th>q0004_0003</th>\n",
              "      <th>q0004_0004</th>\n",
              "      <th>q0004_0005</th>\n",
              "      <th>q0004_0006</th>\n",
              "      <th>q0005</th>\n",
              "      <th>q0007_0001</th>\n",
              "      <th>q0007_0002</th>\n",
              "      <th>q0007_0003</th>\n",
              "      <th>q0007_0004</th>\n",
              "      <th>q0007_0005</th>\n",
              "      <th>q0007_0006</th>\n",
              "      <th>q0007_0007</th>\n",
              "      <th>q0007_0008</th>\n",
              "      <th>q0007_0009</th>\n",
              "      <th>q0007_0010</th>\n",
              "      <th>q0007_0011</th>\n",
              "      <th>q0008_0001</th>\n",
              "      <th>q0008_0002</th>\n",
              "      <th>q0008_0003</th>\n",
              "      <th>q0008_0004</th>\n",
              "      <th>q0008_0005</th>\n",
              "      <th>q0008_0006</th>\n",
              "      <th>q0008_0007</th>\n",
              "      <th>q0008_0008</th>\n",
              "      <th>q0008_0009</th>\n",
              "      <th>q0008_0010</th>\n",
              "      <th>q0008_0011</th>\n",
              "      <th>q0008_0012</th>\n",
              "      <th>q0009</th>\n",
              "      <th>q0010_0001</th>\n",
              "      <th>q0010_0002</th>\n",
              "      <th>q0010_0003</th>\n",
              "      <th>q0010_0004</th>\n",
              "      <th>...</th>\n",
              "      <th>q0015</th>\n",
              "      <th>q0017</th>\n",
              "      <th>q0018</th>\n",
              "      <th>q0019_0001</th>\n",
              "      <th>q0019_0002</th>\n",
              "      <th>q0019_0003</th>\n",
              "      <th>q0019_0004</th>\n",
              "      <th>q0019_0005</th>\n",
              "      <th>q0019_0006</th>\n",
              "      <th>q0019_0007</th>\n",
              "      <th>q0020_0001</th>\n",
              "      <th>q0020_0002</th>\n",
              "      <th>q0020_0003</th>\n",
              "      <th>q0020_0004</th>\n",
              "      <th>q0020_0005</th>\n",
              "      <th>q0020_0006</th>\n",
              "      <th>q0021_0001</th>\n",
              "      <th>q0021_0002</th>\n",
              "      <th>q0021_0003</th>\n",
              "      <th>q0021_0004</th>\n",
              "      <th>q0022</th>\n",
              "      <th>q0024</th>\n",
              "      <th>q0025_0001</th>\n",
              "      <th>q0025_0002</th>\n",
              "      <th>q0025_0003</th>\n",
              "      <th>q0026</th>\n",
              "      <th>q0028</th>\n",
              "      <th>q0029</th>\n",
              "      <th>q0030</th>\n",
              "      <th>q0034</th>\n",
              "      <th>q0035</th>\n",
              "      <th>q0036</th>\n",
              "      <th>race2</th>\n",
              "      <th>racethn4</th>\n",
              "      <th>educ3</th>\n",
              "      <th>educ4</th>\n",
              "      <th>age3</th>\n",
              "      <th>kids</th>\n",
              "      <th>orientation</th>\n",
              "      <th>weight</th>\n",
              "    </tr>\n",
              "  </thead>\n",
              "  <tbody>\n",
              "    <tr>\n",
              "      <th>0</th>\n",
              "      <td>1</td>\n",
              "      <td>5/10/18 4:01</td>\n",
              "      <td>5/10/18 4:06</td>\n",
              "      <td>Somewhat masculine</td>\n",
              "      <td>Somewhat important</td>\n",
              "      <td>Not selected</td>\n",
              "      <td>Not selected</td>\n",
              "      <td>Not selected</td>\n",
              "      <td>Pop culture</td>\n",
              "      <td>Not selected</td>\n",
              "      <td>Not selected</td>\n",
              "      <td>Yes</td>\n",
              "      <td>Often</td>\n",
              "      <td>Often</td>\n",
              "      <td>Often</td>\n",
              "      <td>Often</td>\n",
              "      <td>Never, and not open to it</td>\n",
              "      <td>Never, and not open to it</td>\n",
              "      <td>Often</td>\n",
              "      <td>Sometimes</td>\n",
              "      <td>Sometimes</td>\n",
              "      <td>Never, and not open to it</td>\n",
              "      <td>Often</td>\n",
              "      <td>Not selected</td>\n",
              "      <td>Not selected</td>\n",
              "      <td>Your hair or hairline</td>\n",
              "      <td>Not selected</td>\n",
              "      <td>Not selected</td>\n",
              "      <td>Not selected</td>\n",
              "      <td>Not selected</td>\n",
              "      <td>Not selected</td>\n",
              "      <td>Your physical health</td>\n",
              "      <td>Your finances, including your current or futur...</td>\n",
              "      <td>Not selected</td>\n",
              "      <td>Not selected</td>\n",
              "      <td>Not employed, NOT looking for work</td>\n",
              "      <td>NaN</td>\n",
              "      <td>NaN</td>\n",
              "      <td>NaN</td>\n",
              "      <td>NaN</td>\n",
              "      <td>...</td>\n",
              "      <td>NaN</td>\n",
              "      <td>Yes</td>\n",
              "      <td>Sometimes</td>\n",
              "      <td>NaN</td>\n",
              "      <td>NaN</td>\n",
              "      <td>NaN</td>\n",
              "      <td>NaN</td>\n",
              "      <td>NaN</td>\n",
              "      <td>NaN</td>\n",
              "      <td>NaN</td>\n",
              "      <td>Read their physical body language to see if th...</td>\n",
              "      <td>Ask for a verbal confirmation of consent</td>\n",
              "      <td>Make a physical move to see how they react</td>\n",
              "      <td>Every situation is different</td>\n",
              "      <td>It isn?t always clear how to gauge someone?s i...</td>\n",
              "      <td>Not selected</td>\n",
              "      <td>Not selected</td>\n",
              "      <td>Not selected</td>\n",
              "      <td>Not selected</td>\n",
              "      <td>None of the above</td>\n",
              "      <td>No</td>\n",
              "      <td>Never married</td>\n",
              "      <td>Not selected</td>\n",
              "      <td>Not selected</td>\n",
              "      <td>No children</td>\n",
              "      <td>Gay</td>\n",
              "      <td>Hispanic</td>\n",
              "      <td>College graduate</td>\n",
              "      <td>New York</td>\n",
              "      <td>$0-$9,999</td>\n",
              "      <td>Middle Atlantic</td>\n",
              "      <td>Windows Desktop / Laptop</td>\n",
              "      <td>Non-white</td>\n",
              "      <td>Hispanic</td>\n",
              "      <td>College or more</td>\n",
              "      <td>College or more</td>\n",
              "      <td>35 - 64</td>\n",
              "      <td>No children</td>\n",
              "      <td>Gay/Bisexual</td>\n",
              "      <td>1.714026</td>\n",
              "    </tr>\n",
              "    <tr>\n",
              "      <th>1</th>\n",
              "      <td>2</td>\n",
              "      <td>5/10/18 6:30</td>\n",
              "      <td>5/10/18 6:53</td>\n",
              "      <td>Somewhat masculine</td>\n",
              "      <td>Somewhat important</td>\n",
              "      <td>Father or father figure(s)</td>\n",
              "      <td>Not selected</td>\n",
              "      <td>Not selected</td>\n",
              "      <td>Not selected</td>\n",
              "      <td>Not selected</td>\n",
              "      <td>Not selected</td>\n",
              "      <td>Yes</td>\n",
              "      <td>Rarely</td>\n",
              "      <td>Sometimes</td>\n",
              "      <td>Never, but open to it</td>\n",
              "      <td>Rarely</td>\n",
              "      <td>Never, and not open to it</td>\n",
              "      <td>Rarely</td>\n",
              "      <td>Never, and not open to it</td>\n",
              "      <td>Often</td>\n",
              "      <td>Never, and not open to it</td>\n",
              "      <td>Sometimes</td>\n",
              "      <td>No answer</td>\n",
              "      <td>Not selected</td>\n",
              "      <td>Your weight</td>\n",
              "      <td>Not selected</td>\n",
              "      <td>Not selected</td>\n",
              "      <td>Not selected</td>\n",
              "      <td>Not selected</td>\n",
              "      <td>Not selected</td>\n",
              "      <td>Your mental health</td>\n",
              "      <td>Your physical health</td>\n",
              "      <td>Not selected</td>\n",
              "      <td>Not selected</td>\n",
              "      <td>Not selected</td>\n",
              "      <td>Not employed-retired</td>\n",
              "      <td>NaN</td>\n",
              "      <td>NaN</td>\n",
              "      <td>NaN</td>\n",
              "      <td>NaN</td>\n",
              "      <td>...</td>\n",
              "      <td>NaN</td>\n",
              "      <td>No</td>\n",
              "      <td>Rarely</td>\n",
              "      <td>NaN</td>\n",
              "      <td>NaN</td>\n",
              "      <td>NaN</td>\n",
              "      <td>NaN</td>\n",
              "      <td>NaN</td>\n",
              "      <td>NaN</td>\n",
              "      <td>NaN</td>\n",
              "      <td>Not selected</td>\n",
              "      <td>Not selected</td>\n",
              "      <td>Not selected</td>\n",
              "      <td>Not selected</td>\n",
              "      <td>Not selected</td>\n",
              "      <td>Other (please specify)</td>\n",
              "      <td>Not selected</td>\n",
              "      <td>Not selected</td>\n",
              "      <td>Not selected</td>\n",
              "      <td>None of the above</td>\n",
              "      <td>No</td>\n",
              "      <td>Widowed</td>\n",
              "      <td>Not selected</td>\n",
              "      <td>Yes, one or more children 18 or older</td>\n",
              "      <td>Not selected</td>\n",
              "      <td>Straight</td>\n",
              "      <td>White</td>\n",
              "      <td>Some college</td>\n",
              "      <td>Ohio</td>\n",
              "      <td>$50,000-$74,999</td>\n",
              "      <td>East North Central</td>\n",
              "      <td>iOS Phone / Tablet</td>\n",
              "      <td>White</td>\n",
              "      <td>White</td>\n",
              "      <td>Some college</td>\n",
              "      <td>Some college</td>\n",
              "      <td>65 and up</td>\n",
              "      <td>Has children</td>\n",
              "      <td>Straight</td>\n",
              "      <td>1.247120</td>\n",
              "    </tr>\n",
              "    <tr>\n",
              "      <th>2</th>\n",
              "      <td>3</td>\n",
              "      <td>5/10/18 7:02</td>\n",
              "      <td>5/10/18 7:09</td>\n",
              "      <td>Very masculine</td>\n",
              "      <td>Not too important</td>\n",
              "      <td>Father or father figure(s)</td>\n",
              "      <td>Not selected</td>\n",
              "      <td>Not selected</td>\n",
              "      <td>Not selected</td>\n",
              "      <td>Not selected</td>\n",
              "      <td>Other (please specify)</td>\n",
              "      <td>No</td>\n",
              "      <td>Sometimes</td>\n",
              "      <td>Sometimes</td>\n",
              "      <td>Sometimes</td>\n",
              "      <td>Rarely</td>\n",
              "      <td>Never, but open to it</td>\n",
              "      <td>Often</td>\n",
              "      <td>Never, and not open to it</td>\n",
              "      <td>Rarely</td>\n",
              "      <td>Sometimes</td>\n",
              "      <td>Rarely</td>\n",
              "      <td>Never, and not open to it</td>\n",
              "      <td>Not selected</td>\n",
              "      <td>Not selected</td>\n",
              "      <td>Not selected</td>\n",
              "      <td>Not selected</td>\n",
              "      <td>Not selected</td>\n",
              "      <td>Not selected</td>\n",
              "      <td>Not selected</td>\n",
              "      <td>Not selected</td>\n",
              "      <td>Your physical health</td>\n",
              "      <td>Not selected</td>\n",
              "      <td>Not selected</td>\n",
              "      <td>Not selected</td>\n",
              "      <td>Employed, working full-time</td>\n",
              "      <td>Not selected</td>\n",
              "      <td>Not selected</td>\n",
              "      <td>Not selected</td>\n",
              "      <td>Not selected</td>\n",
              "      <td>...</td>\n",
              "      <td>No</td>\n",
              "      <td>Yes</td>\n",
              "      <td>Sometimes</td>\n",
              "      <td>NaN</td>\n",
              "      <td>NaN</td>\n",
              "      <td>NaN</td>\n",
              "      <td>NaN</td>\n",
              "      <td>NaN</td>\n",
              "      <td>NaN</td>\n",
              "      <td>NaN</td>\n",
              "      <td>Not selected</td>\n",
              "      <td>Not selected</td>\n",
              "      <td>Not selected</td>\n",
              "      <td>Every situation is different</td>\n",
              "      <td>Not selected</td>\n",
              "      <td>Not selected</td>\n",
              "      <td>Not selected</td>\n",
              "      <td>Not selected</td>\n",
              "      <td>Not selected</td>\n",
              "      <td>None of the above</td>\n",
              "      <td>No</td>\n",
              "      <td>Married</td>\n",
              "      <td>Not selected</td>\n",
              "      <td>Yes, one or more children 18 or older</td>\n",
              "      <td>Not selected</td>\n",
              "      <td>Straight</td>\n",
              "      <td>White</td>\n",
              "      <td>College graduate</td>\n",
              "      <td>Michigan</td>\n",
              "      <td>$50,000-$74,999</td>\n",
              "      <td>East North Central</td>\n",
              "      <td>Windows Desktop / Laptop</td>\n",
              "      <td>White</td>\n",
              "      <td>White</td>\n",
              "      <td>College or more</td>\n",
              "      <td>College or more</td>\n",
              "      <td>35 - 64</td>\n",
              "      <td>Has children</td>\n",
              "      <td>Straight</td>\n",
              "      <td>0.515746</td>\n",
              "    </tr>\n",
              "  </tbody>\n",
              "</table>\n",
              "<p>3 rows × 98 columns</p>\n",
              "</div>"
            ],
            "text/plain": [
              "   Unnamed: 0     StartDate       EndDate  ...          kids   orientation    weight\n",
              "0           1  5/10/18 4:01  5/10/18 4:06  ...   No children  Gay/Bisexual  1.714026\n",
              "1           2  5/10/18 6:30  5/10/18 6:53  ...  Has children      Straight  1.247120\n",
              "2           3  5/10/18 7:02  5/10/18 7:09  ...  Has children      Straight  0.515746\n",
              "\n",
              "[3 rows x 98 columns]"
            ]
          },
          "metadata": {},
          "execution_count": 2
        }
      ]
    },
    {
      "cell_type": "markdown",
      "metadata": {
        "id": "DY_trNvqPNvP"
      },
      "source": [
        "![green-divider](https://user-images.githubusercontent.com/7065401/52071924-c003ad80-2562-11e9-8297-1c6595f8a7ff.png)"
      ]
    },
    {
      "cell_type": "markdown",
      "metadata": {
        "id": "CKwXH752PSZ9"
      },
      "source": [
        "## Survey DataFrame"
      ]
    },
    {
      "cell_type": "code",
      "metadata": {
        "colab": {
          "base_uri": "https://localhost:8080/"
        },
        "id": "C629qX6vPDtJ",
        "outputId": "0544f445-2db7-4f55-d740-6b664d1d5c19"
      },
      "source": [
        "# check shape of df\n",
        "df_survey.shape"
      ],
      "execution_count": 3,
      "outputs": [
        {
          "output_type": "execute_result",
          "data": {
            "text/plain": [
              "(1189, 98)"
            ]
          },
          "metadata": {},
          "execution_count": 3
        }
      ]
    },
    {
      "cell_type": "code",
      "metadata": {
        "colab": {
          "base_uri": "https://localhost:8080/"
        },
        "id": "613_9n0IPe_A",
        "outputId": "f4004a70-c1de-4667-d756-0623a4c6ddb8"
      },
      "source": [
        "# check column names\n",
        "df_survey.columns"
      ],
      "execution_count": 4,
      "outputs": [
        {
          "output_type": "execute_result",
          "data": {
            "text/plain": [
              "Index(['Unnamed: 0', 'StartDate', 'EndDate', 'q0001', 'q0002', 'q0004_0001',\n",
              "       'q0004_0002', 'q0004_0003', 'q0004_0004', 'q0004_0005', 'q0004_0006',\n",
              "       'q0005', 'q0007_0001', 'q0007_0002', 'q0007_0003', 'q0007_0004',\n",
              "       'q0007_0005', 'q0007_0006', 'q0007_0007', 'q0007_0008', 'q0007_0009',\n",
              "       'q0007_0010', 'q0007_0011', 'q0008_0001', 'q0008_0002', 'q0008_0003',\n",
              "       'q0008_0004', 'q0008_0005', 'q0008_0006', 'q0008_0007', 'q0008_0008',\n",
              "       'q0008_0009', 'q0008_0010', 'q0008_0011', 'q0008_0012', 'q0009',\n",
              "       'q0010_0001', 'q0010_0002', 'q0010_0003', 'q0010_0004', 'q0010_0005',\n",
              "       'q0010_0006', 'q0010_0007', 'q0010_0008', 'q0011_0001', 'q0011_0002',\n",
              "       'q0011_0003', 'q0011_0004', 'q0011_0005', 'q0012_0001', 'q0012_0002',\n",
              "       'q0012_0003', 'q0012_0004', 'q0012_0005', 'q0012_0006', 'q0012_0007',\n",
              "       'q0013', 'q0014', 'q0015', 'q0017', 'q0018', 'q0019_0001', 'q0019_0002',\n",
              "       'q0019_0003', 'q0019_0004', 'q0019_0005', 'q0019_0006', 'q0019_0007',\n",
              "       'q0020_0001', 'q0020_0002', 'q0020_0003', 'q0020_0004', 'q0020_0005',\n",
              "       'q0020_0006', 'q0021_0001', 'q0021_0002', 'q0021_0003', 'q0021_0004',\n",
              "       'q0022', 'q0024', 'q0025_0001', 'q0025_0002', 'q0025_0003', 'q0026',\n",
              "       'q0028', 'q0029', 'q0030', 'q0034', 'q0035', 'q0036', 'race2',\n",
              "       'racethn4', 'educ3', 'educ4', 'age3', 'kids', 'orientation', 'weight'],\n",
              "      dtype='object')"
            ]
          },
          "metadata": {},
          "execution_count": 4
        }
      ]
    },
    {
      "cell_type": "code",
      "metadata": {
        "colab": {
          "base_uri": "https://localhost:8080/",
          "height": 883
        },
        "id": "Xmmot2t5Ptkp",
        "outputId": "4a6e4678-117e-4982-8b0e-14d5470b6929"
      },
      "source": [
        "# check for missing values\n",
        "import missingno as msg\n",
        "\n",
        "msg.matrix(df_survey, figsize=(15,15))"
      ],
      "execution_count": 5,
      "outputs": [
        {
          "output_type": "execute_result",
          "data": {
            "text/plain": [
              "<matplotlib.axes._subplots.AxesSubplot at 0x7f2a2d60b7d0>"
            ]
          },
          "metadata": {},
          "execution_count": 5
        },
        {
          "output_type": "display_data",
          "data": {
            "image/png": "[encoded data removed]",
            "text/plain": [
              "<Figure size 1080x1080 with 2 Axes>"
            ]
          },
          "metadata": {
            "needs_background": "light"
          }
        }
      ]
    },
    {
      "cell_type": "code",
      "metadata": {
        "colab": {
          "base_uri": "https://localhost:8080/"
        },
        "id": "3_2G3w9qQjmf",
        "outputId": "5d641dd0-8656-4b0a-dab1-abfc79b29dcb"
      },
      "source": [
        "# identify columns with the highest null values\n",
        "\n",
        "for col in df_survey.columns: \n",
        "  print(f'{col}: {df_survey[col].isna().sum()}')"
      ],
      "execution_count": 6,
      "outputs": [
        {
          "output_type": "stream",
          "name": "stdout",
          "text": [
            "Unnamed: 0: 0\n",
            "StartDate: 0\n",
            "EndDate: 0\n",
            "q0001: 0\n",
            "q0002: 0\n",
            "q0004_0001: 0\n",
            "q0004_0002: 0\n",
            "q0004_0003: 0\n",
            "q0004_0004: 0\n",
            "q0004_0005: 0\n",
            "q0004_0006: 0\n",
            "q0005: 0\n",
            "q0007_0001: 0\n",
            "q0007_0002: 0\n",
            "q0007_0003: 0\n",
            "q0007_0004: 0\n",
            "q0007_0005: 0\n",
            "q0007_0006: 0\n",
            "q0007_0007: 0\n",
            "q0007_0008: 0\n",
            "q0007_0009: 0\n",
            "q0007_0010: 0\n",
            "q0007_0011: 0\n",
            "q0008_0001: 0\n",
            "q0008_0002: 0\n",
            "q0008_0003: 0\n",
            "q0008_0004: 0\n",
            "q0008_0005: 0\n",
            "q0008_0006: 0\n",
            "q0008_0007: 0\n",
            "q0008_0008: 0\n",
            "q0008_0009: 0\n",
            "q0008_0010: 0\n",
            "q0008_0011: 0\n",
            "q0008_0012: 0\n",
            "q0009: 0\n",
            "q0010_0001: 613\n",
            "q0010_0002: 613\n",
            "q0010_0003: 613\n",
            "q0010_0004: 613\n",
            "q0010_0005: 613\n",
            "q0010_0006: 613\n",
            "q0010_0007: 613\n",
            "q0010_0008: 613\n",
            "q0011_0001: 613\n",
            "q0011_0002: 613\n",
            "q0011_0003: 613\n",
            "q0011_0004: 613\n",
            "q0011_0005: 613\n",
            "q0012_0001: 613\n",
            "q0012_0002: 613\n",
            "q0012_0003: 613\n",
            "q0012_0004: 613\n",
            "q0012_0005: 613\n",
            "q0012_0006: 613\n",
            "q0012_0007: 613\n",
            "q0013: 1160\n",
            "q0014: 613\n",
            "q0015: 704\n",
            "q0017: 0\n",
            "q0018: 0\n",
            "q0019_0001: 264\n",
            "q0019_0002: 264\n",
            "q0019_0003: 264\n",
            "q0019_0004: 264\n",
            "q0019_0005: 264\n",
            "q0019_0006: 264\n",
            "q0019_0007: 264\n",
            "q0020_0001: 0\n",
            "q0020_0002: 0\n",
            "q0020_0003: 0\n",
            "q0020_0004: 0\n",
            "q0020_0005: 0\n",
            "q0020_0006: 0\n",
            "q0021_0001: 0\n",
            "q0021_0002: 0\n",
            "q0021_0003: 0\n",
            "q0021_0004: 0\n",
            "q0022: 0\n",
            "q0024: 0\n",
            "q0025_0001: 0\n",
            "q0025_0002: 0\n",
            "q0025_0003: 0\n",
            "q0026: 0\n",
            "q0028: 0\n",
            "q0029: 0\n",
            "q0030: 0\n",
            "q0034: 2\n",
            "q0035: 12\n",
            "q0036: 2\n",
            "race2: 0\n",
            "racethn4: 0\n",
            "educ3: 1\n",
            "educ4: 1\n",
            "age3: 1\n",
            "kids: 6\n",
            "orientation: 1\n",
            "weight: 1\n"
          ]
        }
      ]
    },
    {
      "cell_type": "markdown",
      "metadata": {
        "id": "Lnfu17uRqWCL"
      },
      "source": [
        "The questions that have the highest number of Null values are the ones that have the option to select all options that apply. For example question 10:    \n",
        "- In which of the following ways would you say it's an advantage to be a man at your work right now?\n",
        "  - Men make more money\n",
        "  - Men are taken more seriously\n",
        "  - Men have more choice\n",
        "  - Men have more promotion/professional development opportunities\n",
        "  - Men are explicitly praised more often "
      ]
    },
    {
      "cell_type": "markdown",
      "metadata": {
        "id": "9eC16aXRoPxM"
      },
      "source": [
        "![green-divider](https://user-images.githubusercontent.com/7065401/52071924-c003ad80-2562-11e9-8297-1c6595f8a7ff.png)"
      ]
    },
    {
      "cell_type": "markdown",
      "metadata": {
        "id": "Z-VkeoHpnHi3"
      },
      "source": [
        "### Question 7 Analysis\n",
        "- How often would you say you do each of the following (Often, Sometimes rarely, Never, and not open to it)?\n",
        "    - ask a friend for professional advice\n",
        "    - ask a friend for personal advice\n",
        "    - express physical affection to male friends, like hugging\n",
        "    - cry\n",
        "    - get in a physical fight with another person\n",
        "    - have sexual relations with women, including anything from kissing to sex\n",
        "    - have sexual relations with men, including anything from kissing to sex\n",
        "    - watch sports of any kind\n",
        "    - work out\n"
      ]
    },
    {
      "cell_type": "code",
      "metadata": {
        "id": "VQ4ElxZOr-dk",
        "colab": {
          "base_uri": "https://localhost:8080/"
        },
        "outputId": "01b19b23-7929-458b-f42e-ef8cb4475540"
      },
      "source": [
        "# check different answers for each subquestion in question 7\n",
        "sub_q = 'q0007_000'\n",
        "\n",
        "for i in range(1,10):\n",
        "  # get subquestion\n",
        "  q = sub_q + str(i)\n",
        "\n",
        "  print(q)\n",
        "  print(df_survey[q].value_counts())\n",
        "  print('\\n')\n",
        "  \n"
      ],
      "execution_count": 7,
      "outputs": [
        {
          "output_type": "stream",
          "name": "stdout",
          "text": [
            "q0007_0001\n",
            "Sometimes                    537\n",
            "Rarely                       324\n",
            "Often                        142\n",
            "Never, but open to it        123\n",
            "Never, and not open to it     53\n",
            "No answer                     10\n",
            "Name: q0007_0001, dtype: int64\n",
            "\n",
            "\n",
            "q0007_0002\n",
            "Sometimes                    514\n",
            "Rarely                       387\n",
            "Often                        123\n",
            "Never, but open to it        101\n",
            "Never, and not open to it     50\n",
            "No answer                     14\n",
            "Name: q0007_0002, dtype: int64\n",
            "\n",
            "\n",
            "q0007_0003\n",
            "Sometimes                    364\n",
            "Rarely                       339\n",
            "Never, and not open to it    224\n",
            "Often                        166\n",
            "Never, but open to it         85\n",
            "No answer                     11\n",
            "Name: q0007_0003, dtype: int64\n",
            "\n",
            "\n",
            "q0007_0004\n",
            "Rarely                       505\n",
            "Sometimes                    371\n",
            "Never, but open to it        121\n",
            "Never, and not open to it     78\n",
            "No answer                     71\n",
            "Often                         43\n",
            "Name: q0007_0004, dtype: int64\n",
            "\n",
            "\n",
            "q0007_0005\n",
            "Never, and not open to it    710\n",
            "Never, but open to it        228\n",
            "Rarely                       217\n",
            "Sometimes                     22\n",
            "Often                          7\n",
            "No answer                      5\n",
            "Name: q0007_0005, dtype: int64\n",
            "\n",
            "\n",
            "q0007_0006\n",
            "Often                        427\n",
            "Sometimes                    384\n",
            "Rarely                       155\n",
            "Never, and not open to it    102\n",
            "Never, but open to it         91\n",
            "No answer                     30\n",
            "Name: q0007_0006, dtype: int64\n",
            "\n",
            "\n",
            "q0007_0007\n",
            "Never, and not open to it    1001\n",
            "Never, but open to it          60\n",
            "Sometimes                      41\n",
            "Often                          39\n",
            "Rarely                         31\n",
            "No answer                      17\n",
            "Name: q0007_0007, dtype: int64\n",
            "\n",
            "\n",
            "q0007_0008\n",
            "Often                        482\n",
            "Sometimes                    344\n",
            "Rarely                       216\n",
            "Never, and not open to it     93\n",
            "Never, but open to it         43\n",
            "No answer                     11\n",
            "Name: q0007_0008, dtype: int64\n",
            "\n",
            "\n",
            "q0007_0009\n",
            "Sometimes                    353\n",
            "Rarely                       316\n",
            "Often                        296\n",
            "Never, but open to it         95\n",
            "Never, and not open to it     95\n",
            "No answer                     34\n",
            "Name: q0007_0009, dtype: int64\n",
            "\n",
            "\n"
          ]
        }
      ]
    },
    {
      "cell_type": "markdown",
      "metadata": {
        "id": "OK2R1-ApoWuk"
      },
      "source": [
        "![green-divider](https://user-images.githubusercontent.com/7065401/52071924-c003ad80-2562-11e9-8297-1c6595f8a7ff.png)"
      ]
    },
    {
      "cell_type": "markdown",
      "metadata": {
        "id": "YO-00tD7oXgd"
      },
      "source": [
        "#### Mapping Answers of Question 7\n",
        "\n",
        "- The answers of the different subquestions will be mapped to numbers so they can be used in the *KMeans* model. They are ordinal categorical variables so their number counterparts will resemble this organization\n",
        "\n",
        "  - Often >> 4\n",
        "  - Sometimes >> 3\n",
        "  - Rarely >> 2\n",
        "  - Never, but open to it >> 1\n",
        "  - Never, and not open to it >> 0"
      ]
    },
    {
      "cell_type": "code",
      "metadata": {
        "colab": {
          "base_uri": "https://localhost:8080/"
        },
        "id": "FvYgYDyZqK6i",
        "outputId": "74433509-1d60-482b-847c-cfd7f59b962b"
      },
      "source": [
        "# create question variable\n",
        "question = 'q0007_000'\n",
        "\n",
        "# loop through each subquestion \n",
        "for i in range(1, 10):\n",
        "  q = question + str(i)\n",
        "  df_survey[q] = df_survey[q].map({'Never, and not open to it': 0,\n",
        "                                   'Never, but open to it': 1,\n",
        "                                   'Rarely': 2,\n",
        "                                   'Sometimes': 3,\n",
        "                                   'Often': 4})\n",
        "  print(q)\n",
        "  print(df_survey[q].value_counts())\n",
        "  print('\\n')"
      ],
      "execution_count": 8,
      "outputs": [
        {
          "output_type": "stream",
          "name": "stdout",
          "text": [
            "q0007_0001\n",
            "3.0    537\n",
            "2.0    324\n",
            "4.0    142\n",
            "1.0    123\n",
            "0.0     53\n",
            "Name: q0007_0001, dtype: int64\n",
            "\n",
            "\n",
            "q0007_0002\n",
            "3.0    514\n",
            "2.0    387\n",
            "4.0    123\n",
            "1.0    101\n",
            "0.0     50\n",
            "Name: q0007_0002, dtype: int64\n",
            "\n",
            "\n",
            "q0007_0003\n",
            "3.0    364\n",
            "2.0    339\n",
            "0.0    224\n",
            "4.0    166\n",
            "1.0     85\n",
            "Name: q0007_0003, dtype: int64\n",
            "\n",
            "\n",
            "q0007_0004\n",
            "2.0    505\n",
            "3.0    371\n",
            "1.0    121\n",
            "0.0     78\n",
            "4.0     43\n",
            "Name: q0007_0004, dtype: int64\n",
            "\n",
            "\n",
            "q0007_0005\n",
            "0.0    710\n",
            "1.0    228\n",
            "2.0    217\n",
            "3.0     22\n",
            "4.0      7\n",
            "Name: q0007_0005, dtype: int64\n",
            "\n",
            "\n",
            "q0007_0006\n",
            "4.0    427\n",
            "3.0    384\n",
            "2.0    155\n",
            "0.0    102\n",
            "1.0     91\n",
            "Name: q0007_0006, dtype: int64\n",
            "\n",
            "\n",
            "q0007_0007\n",
            "0.0    1001\n",
            "1.0      60\n",
            "3.0      41\n",
            "4.0      39\n",
            "2.0      31\n",
            "Name: q0007_0007, dtype: int64\n",
            "\n",
            "\n",
            "q0007_0008\n",
            "4.0    482\n",
            "3.0    344\n",
            "2.0    216\n",
            "0.0     93\n",
            "1.0     43\n",
            "Name: q0007_0008, dtype: int64\n",
            "\n",
            "\n",
            "q0007_0009\n",
            "3.0    353\n",
            "2.0    316\n",
            "4.0    296\n",
            "1.0     95\n",
            "0.0     95\n",
            "Name: q0007_0009, dtype: int64\n",
            "\n",
            "\n"
          ]
        }
      ]
    },
    {
      "cell_type": "code",
      "metadata": {
        "colab": {
          "base_uri": "https://localhost:8080/",
          "height": 424
        },
        "id": "3RpUW0UzxBap",
        "outputId": "c2b5d43e-ab48-4b06-b953-a1250435496b"
      },
      "source": [
        "# check data mapped\n",
        "df_survey[['q0007_0001', 'q0007_0002', 'q0007_0003', 'q0007_0004', 'q0007_0005', 'q0007_0006', 'q0007_0007',\\\n",
        "           'q0007_0008', 'q0007_0009']]"
      ],
      "execution_count": 9,
      "outputs": [
        {
          "output_type": "execute_result",
          "data": {
            "text/html": [
              "<div>\n",
              "<style scoped>\n",
              "    .dataframe tbody tr th:only-of-type {\n",
              "        vertical-align: middle;\n",
              "    }\n",
              "\n",
              "    .dataframe tbody tr th {\n",
              "        vertical-align: top;\n",
              "    }\n",
              "\n",
              "    .dataframe thead th {\n",
              "        text-align: right;\n",
              "    }\n",
              "</style>\n",
              "<table border=\"1\" class=\"dataframe\">\n",
              "  <thead>\n",
              "    <tr style=\"text-align: right;\">\n",
              "      <th></th>\n",
              "      <th>q0007_0001</th>\n",
              "      <th>q0007_0002</th>\n",
              "      <th>q0007_0003</th>\n",
              "      <th>q0007_0004</th>\n",
              "      <th>q0007_0005</th>\n",
              "      <th>q0007_0006</th>\n",
              "      <th>q0007_0007</th>\n",
              "      <th>q0007_0008</th>\n",
              "      <th>q0007_0009</th>\n",
              "    </tr>\n",
              "  </thead>\n",
              "  <tbody>\n",
              "    <tr>\n",
              "      <th>0</th>\n",
              "      <td>4.0</td>\n",
              "      <td>4.0</td>\n",
              "      <td>4.0</td>\n",
              "      <td>4.0</td>\n",
              "      <td>0.0</td>\n",
              "      <td>0.0</td>\n",
              "      <td>4.0</td>\n",
              "      <td>3.0</td>\n",
              "      <td>3.0</td>\n",
              "    </tr>\n",
              "    <tr>\n",
              "      <th>1</th>\n",
              "      <td>2.0</td>\n",
              "      <td>3.0</td>\n",
              "      <td>1.0</td>\n",
              "      <td>2.0</td>\n",
              "      <td>0.0</td>\n",
              "      <td>2.0</td>\n",
              "      <td>0.0</td>\n",
              "      <td>4.0</td>\n",
              "      <td>0.0</td>\n",
              "    </tr>\n",
              "    <tr>\n",
              "      <th>2</th>\n",
              "      <td>3.0</td>\n",
              "      <td>3.0</td>\n",
              "      <td>3.0</td>\n",
              "      <td>2.0</td>\n",
              "      <td>1.0</td>\n",
              "      <td>4.0</td>\n",
              "      <td>0.0</td>\n",
              "      <td>2.0</td>\n",
              "      <td>3.0</td>\n",
              "    </tr>\n",
              "    <tr>\n",
              "      <th>3</th>\n",
              "      <td>2.0</td>\n",
              "      <td>2.0</td>\n",
              "      <td>3.0</td>\n",
              "      <td>2.0</td>\n",
              "      <td>2.0</td>\n",
              "      <td>4.0</td>\n",
              "      <td>0.0</td>\n",
              "      <td>0.0</td>\n",
              "      <td>2.0</td>\n",
              "    </tr>\n",
              "    <tr>\n",
              "      <th>4</th>\n",
              "      <td>3.0</td>\n",
              "      <td>2.0</td>\n",
              "      <td>0.0</td>\n",
              "      <td>1.0</td>\n",
              "      <td>1.0</td>\n",
              "      <td>3.0</td>\n",
              "      <td>0.0</td>\n",
              "      <td>4.0</td>\n",
              "      <td>2.0</td>\n",
              "    </tr>\n",
              "    <tr>\n",
              "      <th>...</th>\n",
              "      <td>...</td>\n",
              "      <td>...</td>\n",
              "      <td>...</td>\n",
              "      <td>...</td>\n",
              "      <td>...</td>\n",
              "      <td>...</td>\n",
              "      <td>...</td>\n",
              "      <td>...</td>\n",
              "      <td>...</td>\n",
              "    </tr>\n",
              "    <tr>\n",
              "      <th>1184</th>\n",
              "      <td>3.0</td>\n",
              "      <td>3.0</td>\n",
              "      <td>4.0</td>\n",
              "      <td>3.0</td>\n",
              "      <td>3.0</td>\n",
              "      <td>3.0</td>\n",
              "      <td>3.0</td>\n",
              "      <td>0.0</td>\n",
              "      <td>3.0</td>\n",
              "    </tr>\n",
              "    <tr>\n",
              "      <th>1185</th>\n",
              "      <td>3.0</td>\n",
              "      <td>3.0</td>\n",
              "      <td>2.0</td>\n",
              "      <td>2.0</td>\n",
              "      <td>1.0</td>\n",
              "      <td>4.0</td>\n",
              "      <td>0.0</td>\n",
              "      <td>4.0</td>\n",
              "      <td>4.0</td>\n",
              "    </tr>\n",
              "    <tr>\n",
              "      <th>1186</th>\n",
              "      <td>4.0</td>\n",
              "      <td>3.0</td>\n",
              "      <td>0.0</td>\n",
              "      <td>3.0</td>\n",
              "      <td>2.0</td>\n",
              "      <td>4.0</td>\n",
              "      <td>0.0</td>\n",
              "      <td>3.0</td>\n",
              "      <td>3.0</td>\n",
              "    </tr>\n",
              "    <tr>\n",
              "      <th>1187</th>\n",
              "      <td>1.0</td>\n",
              "      <td>1.0</td>\n",
              "      <td>0.0</td>\n",
              "      <td>0.0</td>\n",
              "      <td>3.0</td>\n",
              "      <td>3.0</td>\n",
              "      <td>0.0</td>\n",
              "      <td>4.0</td>\n",
              "      <td>4.0</td>\n",
              "    </tr>\n",
              "    <tr>\n",
              "      <th>1188</th>\n",
              "      <td>2.0</td>\n",
              "      <td>2.0</td>\n",
              "      <td>2.0</td>\n",
              "      <td>0.0</td>\n",
              "      <td>0.0</td>\n",
              "      <td>3.0</td>\n",
              "      <td>0.0</td>\n",
              "      <td>0.0</td>\n",
              "      <td>2.0</td>\n",
              "    </tr>\n",
              "  </tbody>\n",
              "</table>\n",
              "<p>1189 rows × 9 columns</p>\n",
              "</div>"
            ],
            "text/plain": [
              "      q0007_0001  q0007_0002  q0007_0003  ...  q0007_0007  q0007_0008  q0007_0009\n",
              "0            4.0         4.0         4.0  ...         4.0         3.0         3.0\n",
              "1            2.0         3.0         1.0  ...         0.0         4.0         0.0\n",
              "2            3.0         3.0         3.0  ...         0.0         2.0         3.0\n",
              "3            2.0         2.0         3.0  ...         0.0         0.0         2.0\n",
              "4            3.0         2.0         0.0  ...         0.0         4.0         2.0\n",
              "...          ...         ...         ...  ...         ...         ...         ...\n",
              "1184         3.0         3.0         4.0  ...         3.0         0.0         3.0\n",
              "1185         3.0         3.0         2.0  ...         0.0         4.0         4.0\n",
              "1186         4.0         3.0         0.0  ...         0.0         3.0         3.0\n",
              "1187         1.0         1.0         0.0  ...         0.0         4.0         4.0\n",
              "1188         2.0         2.0         2.0  ...         0.0         0.0         2.0\n",
              "\n",
              "[1189 rows x 9 columns]"
            ]
          },
          "metadata": {},
          "execution_count": 9
        }
      ]
    },
    {
      "cell_type": "markdown",
      "metadata": {
        "id": "zYYT9RjFrz5P"
      },
      "source": [
        "![green-divider](https://user-images.githubusercontent.com/7065401/52071924-c003ad80-2562-11e9-8297-1c6595f8a7ff.png)"
      ]
    },
    {
      "cell_type": "markdown",
      "metadata": {
        "id": "nZxdxRuBvKe_"
      },
      "source": [
        "#### Plotting the Data"
      ]
    },
    {
      "cell_type": "markdown",
      "metadata": {
        "id": "x-QAXpZor36p"
      },
      "source": [
        "##### Cry Vs Getting in a Physical fight"
      ]
    },
    {
      "cell_type": "code",
      "metadata": {
        "colab": {
          "base_uri": "https://localhost:8080/",
          "height": 410
        },
        "id": "MOiwi1AvsNMZ",
        "outputId": "77845fe8-8d98-4bce-f442-335321bc7ee5"
      },
      "source": [
        "# list to store questions header for plot axis\n",
        "questions_headers = ['Ask a friend for professional advice', 'Ask a friend for personal advice', \\\n",
        "                     'Express physical affection to male friends', 'Cry', 'Get in a physical fight', \\\n",
        "                     'Have sexual relations with women', 'Have sexual relations with men',\\\n",
        "                     'Watch sports of any kind', 'Work out']\n",
        "\n",
        "# scatterplot Cry Vs Get in a physical fight\n",
        "f, ax = plt.subplots(figsize=(12,6))\n",
        "\n",
        "sns.scatterplot(x=df_survey['q0007_0004'], y=df_survey['q0007_0005'], alpha=0.1, color='crimson')\n",
        "plt.xlabel('Cry')\n",
        "plt.ylabel('Get in a physical fight')\n",
        "\n",
        "plt.title('Cry Vs Get in a Physical Fight', pad=12)\n",
        "\n",
        "plt.show()"
      ],
      "execution_count": 10,
      "outputs": [
        {
          "output_type": "display_data",
          "data": {
            "image/png": "[encoded data removed]",
            "text/plain": [
              "<Figure size 864x432 with 1 Axes>"
            ]
          },
          "metadata": {
            "needs_background": "light"
          }
        }
      ]
    },
    {
      "cell_type": "markdown",
      "metadata": {
        "id": "VLiONZZkvNaw"
      },
      "source": [
        "![green-divider](https://user-images.githubusercontent.com/7065401/52071924-c003ad80-2562-11e9-8297-1c6595f8a7ff.png)"
      ]
    },
    {
      "cell_type": "markdown",
      "metadata": {
        "id": "JGxu1PhivnG7"
      },
      "source": [
        "##### Ask a Friend for Personal Advice Vs Have Sexual Relationships with Women"
      ]
    },
    {
      "cell_type": "code",
      "metadata": {
        "colab": {
          "base_uri": "https://localhost:8080/",
          "height": 410
        },
        "id": "onvOd70jvM2W",
        "outputId": "466e5f69-5499-4d54-f0d4-e97009c4baab"
      },
      "source": [
        "# ScatterPlot Ask a Friend for Personal Advice Vs Having Sexual Relationships with Women\n",
        "\n",
        "f, ax = plt.subplots(figsize=(12,6))\n",
        "\n",
        "sns.scatterplot(x=df_survey['q0007_0001'], y=df_survey['q0007_0006'], alpha=0.1, color='purple')\n",
        "plt.xlabel('Ask a Friend for Personal Advice')\n",
        "plt.ylabel('Having Sexual Relationships with Women')\n",
        "\n",
        "plt.title('Ask a Friend for Personal Advice Vs Having Sexual Relationships with Women', pad=12)\n",
        "plt.show()"
      ],
      "execution_count": 11,
      "outputs": [
        {
          "output_type": "display_data",
          "data": {
            "image/png": "[encoded data removed]",
            "text/plain": [
              "<Figure size 864x432 with 1 Axes>"
            ]
          },
          "metadata": {
            "needs_background": "light"
          }
        }
      ]
    },
    {
      "cell_type": "markdown",
      "metadata": {
        "id": "r50z6OSUxePf"
      },
      "source": [
        "![green-divider](https://user-images.githubusercontent.com/7065401/52071924-c003ad80-2562-11e9-8297-1c6595f8a7ff.png)"
      ]
    },
    {
      "cell_type": "markdown",
      "metadata": {
        "id": "TRingnDKxg4W"
      },
      "source": [
        "##### Multiple Scatter Plots"
      ]
    },
    {
      "cell_type": "code",
      "metadata": {
        "colab": {
          "base_uri": "https://localhost:8080/",
          "height": 932
        },
        "id": "_ivL9BSIyFaL",
        "outputId": "9c08eb6a-d998-4e3d-fcdb-0acd4a2d9018"
      },
      "source": [
        "# variable to store question\n",
        "question = 'q0007_000'\n",
        "\n",
        "# create plot grid\n",
        "fig = plt.figure(figsize=(25,16))\n",
        "\n",
        "for i in range(1,10):\n",
        "  if i != 9:\n",
        "    q1 = question + str(i)\n",
        "    q2 = question + str(i+1)\n",
        "\n",
        "    # plot scatterplot in assigned position\n",
        "    ax = plt.subplot(3,3,i)\n",
        "    sns.scatterplot(x=df_survey[q1], y=df_survey[q2], alpha=0.1, color='dodgerblue')\n",
        "    plt.xlabel(questions_headers[i-1])\n",
        "    plt.ylabel(questions_headers[i])\n",
        "\n",
        "\n",
        "\n",
        "plt.show()"
      ],
      "execution_count": 12,
      "outputs": [
        {
          "output_type": "display_data",
          "data": {
            "image/png": "[encoded data removed]",
            "text/plain": [
              "<Figure size 1800x1152 with 8 Axes>"
            ]
          },
          "metadata": {
            "needs_background": "light"
          }
        }
      ]
    },
    {
      "cell_type": "markdown",
      "metadata": {
        "id": "M6I4OYWF3rUU"
      },
      "source": [
        "Above can be seen the scatterplots of the different features when compared against each other.  \n",
        "\n",
        "- In scatterplot 1 we can see that men who often and sometimes ask a friend for professional advice will also often ask a friend for personal advice.\n",
        "\n",
        "- In scatterplot 5 we can observe that men who often get in a physical fight are having less sexual relations with women. On the other hand, men who rarely or never but open to engage in a fight have more often sexual relations with women.\n",
        "\n",
        "- In scatterplot 6 we can conclude that men who often have sexual relationships with women would never (not open to) having sexual relationships with men. On the same track are men who often have sexual relationships with other men, they would never (not open to) have a sexual relationships with women."
      ]
    },
    {
      "cell_type": "markdown",
      "metadata": {
        "id": "N7OsJJKm67y-"
      },
      "source": [
        "![purple-divider](https://user-images.githubusercontent.com/7065401/52071927-c1cd7100-2562-11e9-908a-dde91ba14e59.png)"
      ]
    },
    {
      "cell_type": "markdown",
      "source": [
        "## KMeans Model\n",
        "- Check to see if clusters are formed based on traditionally masculine concepts\n",
        "  - For example in question 7 some sub-questions are seen as traditionally masculine like the last three:\n",
        "    - Get in a physical fight with another person\n",
        "    - Watch sports of any kind \n",
        "    - Work Out\n",
        "  - Other sub-questions are normally not masculine like the first 4:\n",
        "    - Ask a friend for professional advice\n",
        "    - Ask a friend for personal advice   \n",
        "    - Express physical affection to male friends \n",
        "    - Cry"
      ],
      "metadata": {
        "id": "2XuuyIrjI1G6"
      }
    },
    {
      "cell_type": "markdown",
      "source": [
        "### Drop NaN in Question 7"
      ],
      "metadata": {
        "id": "Q61Cjj_mNuT6"
      }
    },
    {
      "cell_type": "code",
      "source": [
        "# drop na in question 7 sub-question 1 through 9\n",
        "df_survey_7 = df_survey.dropna(subset=['q0007_0001', 'q0007_0002', 'q0007_0003', 'q0007_0004', 'q0007_0005', 'q0007_0006',\\\n",
        "                                       'q0007_0007', 'q0007_0008', 'q0007_0009']) \n",
        "\n",
        "df_survey_7 = df_survey_7[['q0007_0001', 'q0007_0002', 'q0007_0003', 'q0007_0004', 'q0007_0005', 'q0007_0006',\\\n",
        "                                       'q0007_0007', 'q0007_0008', 'q0007_0009']]\n",
        "\n",
        "df_survey_7"
      ],
      "metadata": {
        "colab": {
          "base_uri": "https://localhost:8080/",
          "height": 424
        },
        "id": "JKxB1haBI5DG",
        "outputId": "2b82da3e-891e-4356-9aa6-3448da6bf54e"
      },
      "execution_count": 13,
      "outputs": [
        {
          "output_type": "execute_result",
          "data": {
            "text/html": [
              "<div>\n",
              "<style scoped>\n",
              "    .dataframe tbody tr th:only-of-type {\n",
              "        vertical-align: middle;\n",
              "    }\n",
              "\n",
              "    .dataframe tbody tr th {\n",
              "        vertical-align: top;\n",
              "    }\n",
              "\n",
              "    .dataframe thead th {\n",
              "        text-align: right;\n",
              "    }\n",
              "</style>\n",
              "<table border=\"1\" class=\"dataframe\">\n",
              "  <thead>\n",
              "    <tr style=\"text-align: right;\">\n",
              "      <th></th>\n",
              "      <th>q0007_0001</th>\n",
              "      <th>q0007_0002</th>\n",
              "      <th>q0007_0003</th>\n",
              "      <th>q0007_0004</th>\n",
              "      <th>q0007_0005</th>\n",
              "      <th>q0007_0006</th>\n",
              "      <th>q0007_0007</th>\n",
              "      <th>q0007_0008</th>\n",
              "      <th>q0007_0009</th>\n",
              "    </tr>\n",
              "  </thead>\n",
              "  <tbody>\n",
              "    <tr>\n",
              "      <th>0</th>\n",
              "      <td>4.0</td>\n",
              "      <td>4.0</td>\n",
              "      <td>4.0</td>\n",
              "      <td>4.0</td>\n",
              "      <td>0.0</td>\n",
              "      <td>0.0</td>\n",
              "      <td>4.0</td>\n",
              "      <td>3.0</td>\n",
              "      <td>3.0</td>\n",
              "    </tr>\n",
              "    <tr>\n",
              "      <th>1</th>\n",
              "      <td>2.0</td>\n",
              "      <td>3.0</td>\n",
              "      <td>1.0</td>\n",
              "      <td>2.0</td>\n",
              "      <td>0.0</td>\n",
              "      <td>2.0</td>\n",
              "      <td>0.0</td>\n",
              "      <td>4.0</td>\n",
              "      <td>0.0</td>\n",
              "    </tr>\n",
              "    <tr>\n",
              "      <th>2</th>\n",
              "      <td>3.0</td>\n",
              "      <td>3.0</td>\n",
              "      <td>3.0</td>\n",
              "      <td>2.0</td>\n",
              "      <td>1.0</td>\n",
              "      <td>4.0</td>\n",
              "      <td>0.0</td>\n",
              "      <td>2.0</td>\n",
              "      <td>3.0</td>\n",
              "    </tr>\n",
              "    <tr>\n",
              "      <th>3</th>\n",
              "      <td>2.0</td>\n",
              "      <td>2.0</td>\n",
              "      <td>3.0</td>\n",
              "      <td>2.0</td>\n",
              "      <td>2.0</td>\n",
              "      <td>4.0</td>\n",
              "      <td>0.0</td>\n",
              "      <td>0.0</td>\n",
              "      <td>2.0</td>\n",
              "    </tr>\n",
              "    <tr>\n",
              "      <th>4</th>\n",
              "      <td>3.0</td>\n",
              "      <td>2.0</td>\n",
              "      <td>0.0</td>\n",
              "      <td>1.0</td>\n",
              "      <td>1.0</td>\n",
              "      <td>3.0</td>\n",
              "      <td>0.0</td>\n",
              "      <td>4.0</td>\n",
              "      <td>2.0</td>\n",
              "    </tr>\n",
              "    <tr>\n",
              "      <th>...</th>\n",
              "      <td>...</td>\n",
              "      <td>...</td>\n",
              "      <td>...</td>\n",
              "      <td>...</td>\n",
              "      <td>...</td>\n",
              "      <td>...</td>\n",
              "      <td>...</td>\n",
              "      <td>...</td>\n",
              "      <td>...</td>\n",
              "    </tr>\n",
              "    <tr>\n",
              "      <th>1184</th>\n",
              "      <td>3.0</td>\n",
              "      <td>3.0</td>\n",
              "      <td>4.0</td>\n",
              "      <td>3.0</td>\n",
              "      <td>3.0</td>\n",
              "      <td>3.0</td>\n",
              "      <td>3.0</td>\n",
              "      <td>0.0</td>\n",
              "      <td>3.0</td>\n",
              "    </tr>\n",
              "    <tr>\n",
              "      <th>1185</th>\n",
              "      <td>3.0</td>\n",
              "      <td>3.0</td>\n",
              "      <td>2.0</td>\n",
              "      <td>2.0</td>\n",
              "      <td>1.0</td>\n",
              "      <td>4.0</td>\n",
              "      <td>0.0</td>\n",
              "      <td>4.0</td>\n",
              "      <td>4.0</td>\n",
              "    </tr>\n",
              "    <tr>\n",
              "      <th>1186</th>\n",
              "      <td>4.0</td>\n",
              "      <td>3.0</td>\n",
              "      <td>0.0</td>\n",
              "      <td>3.0</td>\n",
              "      <td>2.0</td>\n",
              "      <td>4.0</td>\n",
              "      <td>0.0</td>\n",
              "      <td>3.0</td>\n",
              "      <td>3.0</td>\n",
              "    </tr>\n",
              "    <tr>\n",
              "      <th>1187</th>\n",
              "      <td>1.0</td>\n",
              "      <td>1.0</td>\n",
              "      <td>0.0</td>\n",
              "      <td>0.0</td>\n",
              "      <td>3.0</td>\n",
              "      <td>3.0</td>\n",
              "      <td>0.0</td>\n",
              "      <td>4.0</td>\n",
              "      <td>4.0</td>\n",
              "    </tr>\n",
              "    <tr>\n",
              "      <th>1188</th>\n",
              "      <td>2.0</td>\n",
              "      <td>2.0</td>\n",
              "      <td>2.0</td>\n",
              "      <td>0.0</td>\n",
              "      <td>0.0</td>\n",
              "      <td>3.0</td>\n",
              "      <td>0.0</td>\n",
              "      <td>0.0</td>\n",
              "      <td>2.0</td>\n",
              "    </tr>\n",
              "  </tbody>\n",
              "</table>\n",
              "<p>1046 rows × 9 columns</p>\n",
              "</div>"
            ],
            "text/plain": [
              "      q0007_0001  q0007_0002  q0007_0003  ...  q0007_0007  q0007_0008  q0007_0009\n",
              "0            4.0         4.0         4.0  ...         4.0         3.0         3.0\n",
              "1            2.0         3.0         1.0  ...         0.0         4.0         0.0\n",
              "2            3.0         3.0         3.0  ...         0.0         2.0         3.0\n",
              "3            2.0         2.0         3.0  ...         0.0         0.0         2.0\n",
              "4            3.0         2.0         0.0  ...         0.0         4.0         2.0\n",
              "...          ...         ...         ...  ...         ...         ...         ...\n",
              "1184         3.0         3.0         4.0  ...         3.0         0.0         3.0\n",
              "1185         3.0         3.0         2.0  ...         0.0         4.0         4.0\n",
              "1186         4.0         3.0         0.0  ...         0.0         3.0         3.0\n",
              "1187         1.0         1.0         0.0  ...         0.0         4.0         4.0\n",
              "1188         2.0         2.0         2.0  ...         0.0         0.0         2.0\n",
              "\n",
              "[1046 rows x 9 columns]"
            ]
          },
          "metadata": {},
          "execution_count": 13
        }
      ]
    },
    {
      "cell_type": "markdown",
      "source": [
        "![green-divider](https://user-images.githubusercontent.com/7065401/52071924-c003ad80-2562-11e9-8297-1c6595f8a7ff.png)"
      ],
      "metadata": {
        "id": "6pub41qpN1ZT"
      }
    },
    {
      "cell_type": "markdown",
      "source": [
        "### Model Creation"
      ],
      "metadata": {
        "id": "xp9Q74zxN4hj"
      }
    },
    {
      "cell_type": "code",
      "source": [
        "from sklearn.cluster import KMeans\n",
        "\n",
        "# create classifier\n",
        "classifier = KMeans(n_clusters=2)\n",
        "\n",
        "# train classifier\n",
        "classifier.fit(df_survey_7)\n",
        "\n",
        "# print cluster centers\n",
        "print('Cluster Centers')\n",
        "centers = classifier.cluster_centers_\n",
        "print(centers)"
      ],
      "metadata": {
        "colab": {
          "base_uri": "https://localhost:8080/"
        },
        "id": "S427cX82NbX8",
        "outputId": "89f40a8b-f5ba-4a71-9d08-81b11c9980cf"
      },
      "execution_count": 14,
      "outputs": [
        {
          "output_type": "stream",
          "name": "stdout",
          "text": [
            "Cluster Centers\n",
            "[[2.85311573 2.81750742 2.84421365 2.40059347 0.70771513 2.86795252\n",
            "  0.5        3.05192878 2.88724036]\n",
            " [1.87634409 1.84408602 0.84946237 1.71505376 0.5483871  2.66666667\n",
            "  0.11827957 2.66129032 2.00268817]]\n"
          ]
        }
      ]
    },
    {
      "cell_type": "markdown",
      "source": [
        "![green-divider](https://user-images.githubusercontent.com/7065401/52071924-c003ad80-2562-11e9-8297-1c6595f8a7ff.png)"
      ],
      "metadata": {
        "id": "SEmVEFKFO42-"
      }
    },
    {
      "cell_type": "markdown",
      "source": [
        "#### Cluster Members\n",
        "\n",
        "- When we look at the two clusters, the first four numbers represent traditional femenine activities while the last three, represent traditional masculine activities\n",
        "\n",
        "- If the data points were separated into a femenine and masculine cluster, it would be expected for one cluster to have high values for the first 4 numbers and the other cluster to have high values for the last three numbers.\n",
        "\n",
        "- Right now, the clusters seem to represent people who do things (higher value in a feature) and people who don´t do things "
      ],
      "metadata": {
        "id": "DUmqjnimO7W1"
      }
    },
    {
      "cell_type": "code",
      "source": [
        "# use classifier.labels_ >> the list shows to which cluster every row in the DataFrame corresponds to\n",
        "# [1,0,1,....] >> first row would be in cluster 1, second row would be in cluster 0\n",
        "\n",
        "print(classifier.labels_)\n",
        "print(len(classifier.labels_))"
      ],
      "metadata": {
        "colab": {
          "base_uri": "https://localhost:8080/"
        },
        "id": "xG3VcrTqQqky",
        "outputId": "3100b07b-eeff-4af8-c36d-f5cec61567f8"
      },
      "execution_count": 15,
      "outputs": [
        {
          "output_type": "stream",
          "name": "stdout",
          "text": [
            "[0 1 0 ... 0 1 1]\n",
            "1046\n"
          ]
        }
      ]
    },
    {
      "cell_type": "code",
      "source": [
        "# list to store cluster 0 indices\n",
        "cluster_zero_indices = []\n",
        "\n",
        "# list to store cluster 1 indices\n",
        "cluster_one_indices = []\n",
        "\n",
        "# loop through every index in labels\n",
        "for i in range(len(classifier.labels_)):\n",
        "  # if label == 0\n",
        "  if classifier.labels_[i] == 0:\n",
        "    # store index in list\n",
        "    cluster_zero_indices.append(i)\n",
        "  elif classifier.labels_[i] == 1:\n",
        "    cluster_one_indices.append(i)\n",
        "\n",
        "\n",
        "print(cluster_zero_indices)\n",
        "print(len(cluster_zero_indices))"
      ],
      "metadata": {
        "colab": {
          "base_uri": "https://localhost:8080/"
        },
        "id": "P9gf5WTlT4dO",
        "outputId": "22c3a387-14c4-4c80-dfc7-89ee14225cae"
      },
      "execution_count": 16,
      "outputs": [
        {
          "output_type": "stream",
          "name": "stdout",
          "text": [
            "[0, 2, 3, 5, 8, 11, 13, 15, 16, 20, 21, 22, 23, 24, 25, 26, 27, 29, 30, 31, 32, 33, 35, 36, 37, 39, 40, 42, 43, 44, 45, 46, 47, 49, 55, 58, 59, 60, 63, 66, 67, 68, 69, 70, 71, 72, 73, 75, 76, 79, 80, 82, 83, 89, 91, 94, 97, 98, 100, 101, 102, 103, 106, 108, 109, 110, 112, 113, 115, 118, 119, 120, 122, 123, 124, 125, 131, 133, 134, 135, 136, 138, 139, 142, 143, 144, 145, 146, 147, 148, 149, 150, 151, 153, 154, 155, 156, 157, 158, 159, 160, 161, 162, 163, 164, 165, 166, 167, 168, 169, 171, 172, 175, 180, 182, 183, 185, 187, 188, 189, 190, 191, 194, 197, 200, 201, 202, 203, 204, 205, 207, 208, 210, 211, 212, 213, 214, 215, 216, 217, 218, 220, 221, 222, 223, 224, 225, 229, 231, 232, 235, 236, 239, 240, 241, 242, 243, 248, 249, 251, 252, 254, 255, 256, 259, 262, 263, 264, 265, 266, 267, 268, 270, 271, 273, 274, 275, 276, 277, 279, 282, 284, 286, 287, 289, 290, 291, 292, 295, 299, 300, 301, 303, 304, 305, 308, 309, 310, 311, 312, 313, 314, 315, 316, 317, 318, 319, 321, 322, 324, 325, 326, 327, 328, 329, 330, 333, 336, 338, 339, 340, 342, 343, 346, 348, 349, 350, 351, 352, 353, 355, 356, 357, 358, 359, 361, 363, 364, 365, 366, 367, 370, 371, 372, 373, 374, 375, 376, 377, 378, 379, 380, 386, 387, 391, 392, 393, 395, 396, 397, 398, 399, 404, 405, 407, 411, 412, 413, 414, 415, 417, 418, 421, 422, 424, 425, 426, 427, 428, 429, 430, 431, 432, 433, 434, 435, 436, 437, 438, 439, 441, 442, 443, 444, 447, 449, 451, 453, 454, 455, 456, 457, 458, 460, 463, 464, 465, 466, 470, 471, 472, 473, 474, 476, 477, 478, 479, 482, 483, 486, 488, 491, 492, 494, 495, 496, 497, 498, 502, 503, 504, 505, 508, 509, 510, 511, 513, 515, 518, 519, 521, 523, 525, 526, 527, 528, 529, 530, 531, 532, 534, 535, 536, 538, 539, 541, 542, 543, 544, 545, 548, 549, 552, 558, 559, 561, 562, 564, 565, 566, 568, 571, 572, 573, 574, 576, 577, 580, 581, 584, 585, 586, 587, 588, 589, 590, 591, 593, 594, 595, 596, 597, 598, 600, 601, 602, 603, 604, 609, 611, 612, 615, 616, 618, 620, 621, 623, 628, 629, 630, 631, 632, 633, 634, 635, 636, 638, 640, 641, 645, 646, 648, 649, 651, 652, 653, 654, 655, 656, 658, 659, 660, 661, 662, 663, 664, 666, 667, 668, 670, 672, 676, 677, 678, 681, 682, 683, 686, 687, 688, 689, 691, 692, 693, 694, 695, 696, 697, 699, 700, 701, 702, 703, 704, 705, 712, 713, 715, 717, 718, 719, 720, 721, 722, 723, 725, 726, 727, 729, 730, 733, 734, 739, 740, 741, 742, 743, 744, 747, 748, 750, 751, 754, 757, 759, 760, 765, 766, 767, 770, 771, 772, 777, 779, 782, 784, 788, 790, 792, 793, 794, 795, 797, 798, 799, 801, 802, 803, 804, 806, 808, 809, 810, 811, 814, 815, 816, 818, 819, 820, 821, 822, 824, 826, 827, 828, 830, 831, 832, 833, 836, 837, 838, 840, 841, 843, 845, 847, 848, 849, 850, 851, 852, 853, 855, 856, 859, 862, 863, 864, 867, 871, 873, 874, 875, 876, 877, 879, 882, 888, 890, 891, 892, 893, 894, 895, 897, 898, 900, 901, 902, 905, 906, 910, 911, 912, 913, 915, 916, 917, 918, 919, 920, 922, 923, 924, 925, 926, 927, 929, 931, 932, 933, 934, 935, 936, 937, 939, 940, 941, 943, 944, 948, 949, 950, 953, 956, 957, 959, 960, 961, 963, 964, 965, 967, 969, 973, 975, 977, 978, 979, 980, 982, 984, 985, 987, 988, 989, 991, 992, 993, 995, 998, 1000, 1001, 1002, 1003, 1004, 1005, 1006, 1008, 1009, 1010, 1011, 1012, 1013, 1014, 1015, 1016, 1017, 1022, 1023, 1025, 1026, 1029, 1031, 1033, 1034, 1035, 1038, 1040, 1041, 1042, 1043]\n",
            "674\n"
          ]
        }
      ]
    },
    {
      "cell_type": "markdown",
      "source": [
        "![green-divider](https://user-images.githubusercontent.com/7065401/52071924-c003ad80-2562-11e9-8297-1c6595f8a7ff.png)"
      ],
      "metadata": {
        "id": "FODaF4EkaZgc"
      }
    },
    {
      "cell_type": "markdown",
      "source": [
        "#### Cluster 0"
      ],
      "metadata": {
        "id": "gbnA6yjmaXBX"
      }
    },
    {
      "cell_type": "code",
      "source": [
        "# check columns of rows that correspond to cluster 0\n",
        "cluster_zero_df = df_survey.iloc[cluster_zero_indices]\n",
        "\n",
        "# select educ4, age3, kids and orientation\n",
        "cluster_zero_df = cluster_zero_df[['educ4', 'age3', 'kids', 'orientation']]\n",
        "cluster_zero_df"
      ],
      "metadata": {
        "colab": {
          "base_uri": "https://localhost:8080/",
          "height": 424
        },
        "id": "QOw8PZFXZUKk",
        "outputId": "835ba7a2-d6b0-4e1d-90a6-559ec642e40c"
      },
      "execution_count": 17,
      "outputs": [
        {
          "output_type": "execute_result",
          "data": {
            "text/html": [
              "<div>\n",
              "<style scoped>\n",
              "    .dataframe tbody tr th:only-of-type {\n",
              "        vertical-align: middle;\n",
              "    }\n",
              "\n",
              "    .dataframe tbody tr th {\n",
              "        vertical-align: top;\n",
              "    }\n",
              "\n",
              "    .dataframe thead th {\n",
              "        text-align: right;\n",
              "    }\n",
              "</style>\n",
              "<table border=\"1\" class=\"dataframe\">\n",
              "  <thead>\n",
              "    <tr style=\"text-align: right;\">\n",
              "      <th></th>\n",
              "      <th>educ4</th>\n",
              "      <th>age3</th>\n",
              "      <th>kids</th>\n",
              "      <th>orientation</th>\n",
              "    </tr>\n",
              "  </thead>\n",
              "  <tbody>\n",
              "    <tr>\n",
              "      <th>0</th>\n",
              "      <td>College or more</td>\n",
              "      <td>35 - 64</td>\n",
              "      <td>No children</td>\n",
              "      <td>Gay/Bisexual</td>\n",
              "    </tr>\n",
              "    <tr>\n",
              "      <th>2</th>\n",
              "      <td>College or more</td>\n",
              "      <td>35 - 64</td>\n",
              "      <td>Has children</td>\n",
              "      <td>Straight</td>\n",
              "    </tr>\n",
              "    <tr>\n",
              "      <th>3</th>\n",
              "      <td>Some college</td>\n",
              "      <td>65 and up</td>\n",
              "      <td>Has children</td>\n",
              "      <td>No answer</td>\n",
              "    </tr>\n",
              "    <tr>\n",
              "      <th>5</th>\n",
              "      <td>Post graduate degree</td>\n",
              "      <td>65 and up</td>\n",
              "      <td>Has children</td>\n",
              "      <td>Straight</td>\n",
              "    </tr>\n",
              "    <tr>\n",
              "      <th>8</th>\n",
              "      <td>Some college</td>\n",
              "      <td>35 - 64</td>\n",
              "      <td>Has children</td>\n",
              "      <td>Straight</td>\n",
              "    </tr>\n",
              "    <tr>\n",
              "      <th>...</th>\n",
              "      <td>...</td>\n",
              "      <td>...</td>\n",
              "      <td>...</td>\n",
              "      <td>...</td>\n",
              "    </tr>\n",
              "    <tr>\n",
              "      <th>1038</th>\n",
              "      <td>Post graduate degree</td>\n",
              "      <td>65 and up</td>\n",
              "      <td>Has children</td>\n",
              "      <td>Straight</td>\n",
              "    </tr>\n",
              "    <tr>\n",
              "      <th>1040</th>\n",
              "      <td>High school or less</td>\n",
              "      <td>65 and up</td>\n",
              "      <td>Has children</td>\n",
              "      <td>Straight</td>\n",
              "    </tr>\n",
              "    <tr>\n",
              "      <th>1041</th>\n",
              "      <td>Some college</td>\n",
              "      <td>18 - 34</td>\n",
              "      <td>No children</td>\n",
              "      <td>Gay/Bisexual</td>\n",
              "    </tr>\n",
              "    <tr>\n",
              "      <th>1042</th>\n",
              "      <td>Post graduate degree</td>\n",
              "      <td>65 and up</td>\n",
              "      <td>No children</td>\n",
              "      <td>Straight</td>\n",
              "    </tr>\n",
              "    <tr>\n",
              "      <th>1043</th>\n",
              "      <td>High school or less</td>\n",
              "      <td>35 - 64</td>\n",
              "      <td>No children</td>\n",
              "      <td>Gay/Bisexual</td>\n",
              "    </tr>\n",
              "  </tbody>\n",
              "</table>\n",
              "<p>674 rows × 4 columns</p>\n",
              "</div>"
            ],
            "text/plain": [
              "                     educ4       age3          kids   orientation\n",
              "0          College or more    35 - 64   No children  Gay/Bisexual\n",
              "2          College or more    35 - 64  Has children      Straight\n",
              "3             Some college  65 and up  Has children     No answer\n",
              "5     Post graduate degree  65 and up  Has children      Straight\n",
              "8             Some college    35 - 64  Has children      Straight\n",
              "...                    ...        ...           ...           ...\n",
              "1038  Post graduate degree  65 and up  Has children      Straight\n",
              "1040   High school or less  65 and up  Has children      Straight\n",
              "1041          Some college    18 - 34   No children  Gay/Bisexual\n",
              "1042  Post graduate degree  65 and up   No children      Straight\n",
              "1043   High school or less    35 - 64   No children  Gay/Bisexual\n",
              "\n",
              "[674 rows x 4 columns]"
            ]
          },
          "metadata": {},
          "execution_count": 17
        }
      ]
    },
    {
      "cell_type": "markdown",
      "source": [
        "![green-divider](https://user-images.githubusercontent.com/7065401/52071924-c003ad80-2562-11e9-8297-1c6595f8a7ff.png)"
      ],
      "metadata": {
        "id": "7XH8BvRIcpqp"
      }
    },
    {
      "cell_type": "markdown",
      "source": [
        "#### Education"
      ],
      "metadata": {
        "id": "tlp7NMnQcmfj"
      }
    },
    {
      "cell_type": "code",
      "source": [
        "# value counts of educ4 column\n",
        "education_0 = cluster_zero_df['educ4'].value_counts().reset_index()\n",
        "\n",
        "# change column names\n",
        "education_0.columns = ['education', 'count']\n",
        "\n",
        "# %\n",
        "education_0['%'] = (education_0['count'] / len(cluster_zero_df)) * 100\n",
        "\n",
        "education_0"
      ],
      "metadata": {
        "colab": {
          "base_uri": "https://localhost:8080/",
          "height": 175
        },
        "id": "oyC3tdT3anDz",
        "outputId": "4698791e-f492-43d4-e8e6-975a1191ef50"
      },
      "execution_count": 18,
      "outputs": [
        {
          "output_type": "execute_result",
          "data": {
            "text/html": [
              "<div>\n",
              "<style scoped>\n",
              "    .dataframe tbody tr th:only-of-type {\n",
              "        vertical-align: middle;\n",
              "    }\n",
              "\n",
              "    .dataframe tbody tr th {\n",
              "        vertical-align: top;\n",
              "    }\n",
              "\n",
              "    .dataframe thead th {\n",
              "        text-align: right;\n",
              "    }\n",
              "</style>\n",
              "<table border=\"1\" class=\"dataframe\">\n",
              "  <thead>\n",
              "    <tr style=\"text-align: right;\">\n",
              "      <th></th>\n",
              "      <th>education</th>\n",
              "      <th>count</th>\n",
              "      <th>%</th>\n",
              "    </tr>\n",
              "  </thead>\n",
              "  <tbody>\n",
              "    <tr>\n",
              "      <th>0</th>\n",
              "      <td>Post graduate degree</td>\n",
              "      <td>222</td>\n",
              "      <td>32.937685</td>\n",
              "    </tr>\n",
              "    <tr>\n",
              "      <th>1</th>\n",
              "      <td>College or more</td>\n",
              "      <td>209</td>\n",
              "      <td>31.008902</td>\n",
              "    </tr>\n",
              "    <tr>\n",
              "      <th>2</th>\n",
              "      <td>Some college</td>\n",
              "      <td>178</td>\n",
              "      <td>26.409496</td>\n",
              "    </tr>\n",
              "    <tr>\n",
              "      <th>3</th>\n",
              "      <td>High school or less</td>\n",
              "      <td>65</td>\n",
              "      <td>9.643917</td>\n",
              "    </tr>\n",
              "  </tbody>\n",
              "</table>\n",
              "</div>"
            ],
            "text/plain": [
              "              education  count          %\n",
              "0  Post graduate degree    222  32.937685\n",
              "1       College or more    209  31.008902\n",
              "2          Some college    178  26.409496\n",
              "3   High school or less     65   9.643917"
            ]
          },
          "metadata": {},
          "execution_count": 18
        }
      ]
    },
    {
      "cell_type": "markdown",
      "source": [
        "![green-divider](https://user-images.githubusercontent.com/7065401/52071924-c003ad80-2562-11e9-8297-1c6595f8a7ff.png)"
      ],
      "metadata": {
        "id": "z1uRbafUcwcW"
      }
    },
    {
      "cell_type": "markdown",
      "source": [
        "##### Age"
      ],
      "metadata": {
        "id": "d7M9--JvcsSG"
      }
    },
    {
      "cell_type": "code",
      "source": [
        "# value counts of age3 column\n",
        "age_0 = cluster_zero_df['age3'].value_counts().reset_index()\n",
        "\n",
        "# change column names\n",
        "age_0.columns = ['age', 'count']\n",
        "\n",
        "# %\n",
        "age_0['%'] = (age_0['count'] / len (cluster_zero_df)) * 100\n",
        "\n",
        "age_0"
      ],
      "metadata": {
        "colab": {
          "base_uri": "https://localhost:8080/",
          "height": 143
        },
        "id": "w8xvskD4c1i-",
        "outputId": "4bd2fad8-17c5-421d-fa75-081625a04712"
      },
      "execution_count": 19,
      "outputs": [
        {
          "output_type": "execute_result",
          "data": {
            "text/html": [
              "<div>\n",
              "<style scoped>\n",
              "    .dataframe tbody tr th:only-of-type {\n",
              "        vertical-align: middle;\n",
              "    }\n",
              "\n",
              "    .dataframe tbody tr th {\n",
              "        vertical-align: top;\n",
              "    }\n",
              "\n",
              "    .dataframe thead th {\n",
              "        text-align: right;\n",
              "    }\n",
              "</style>\n",
              "<table border=\"1\" class=\"dataframe\">\n",
              "  <thead>\n",
              "    <tr style=\"text-align: right;\">\n",
              "      <th></th>\n",
              "      <th>age</th>\n",
              "      <th>count</th>\n",
              "      <th>%</th>\n",
              "    </tr>\n",
              "  </thead>\n",
              "  <tbody>\n",
              "    <tr>\n",
              "      <th>0</th>\n",
              "      <td>65 and up</td>\n",
              "      <td>332</td>\n",
              "      <td>49.258160</td>\n",
              "    </tr>\n",
              "    <tr>\n",
              "      <th>1</th>\n",
              "      <td>35 - 64</td>\n",
              "      <td>308</td>\n",
              "      <td>45.697329</td>\n",
              "    </tr>\n",
              "    <tr>\n",
              "      <th>2</th>\n",
              "      <td>18 - 34</td>\n",
              "      <td>34</td>\n",
              "      <td>5.044510</td>\n",
              "    </tr>\n",
              "  </tbody>\n",
              "</table>\n",
              "</div>"
            ],
            "text/plain": [
              "         age  count          %\n",
              "0  65 and up    332  49.258160\n",
              "1    35 - 64    308  45.697329\n",
              "2    18 - 34     34   5.044510"
            ]
          },
          "metadata": {},
          "execution_count": 19
        }
      ]
    },
    {
      "cell_type": "markdown",
      "source": [
        "![green-divider](https://user-images.githubusercontent.com/7065401/52071924-c003ad80-2562-11e9-8297-1c6595f8a7ff.png)"
      ],
      "metadata": {
        "id": "_nk976zVdpHE"
      }
    },
    {
      "cell_type": "markdown",
      "source": [
        "##### Orientation"
      ],
      "metadata": {
        "id": "ylEhVLE3JDWn"
      }
    },
    {
      "cell_type": "code",
      "source": [
        "# value counts of orientation\n",
        "orientation_0 = cluster_zero_df['orientation'].value_counts().reset_index()\n",
        "\n",
        "# change column names\n",
        "orientation_0.columns = ['orientation', 'count']\n",
        "\n",
        "# '%' column\n",
        "orientation_0['%'] = (orientation_0['count'] / len(cluster_zero_df)) * 100\n",
        "\n",
        "orientation_0"
      ],
      "metadata": {
        "colab": {
          "base_uri": "https://localhost:8080/",
          "height": 175
        },
        "id": "hZ00QPrLJPoH",
        "outputId": "9daf47a5-d615-4365-81b9-63b4787c08d2"
      },
      "execution_count": 26,
      "outputs": [
        {
          "output_type": "execute_result",
          "data": {
            "text/html": [
              "<div>\n",
              "<style scoped>\n",
              "    .dataframe tbody tr th:only-of-type {\n",
              "        vertical-align: middle;\n",
              "    }\n",
              "\n",
              "    .dataframe tbody tr th {\n",
              "        vertical-align: top;\n",
              "    }\n",
              "\n",
              "    .dataframe thead th {\n",
              "        text-align: right;\n",
              "    }\n",
              "</style>\n",
              "<table border=\"1\" class=\"dataframe\">\n",
              "  <thead>\n",
              "    <tr style=\"text-align: right;\">\n",
              "      <th></th>\n",
              "      <th>orientation</th>\n",
              "      <th>count</th>\n",
              "      <th>%</th>\n",
              "    </tr>\n",
              "  </thead>\n",
              "  <tbody>\n",
              "    <tr>\n",
              "      <th>0</th>\n",
              "      <td>Straight</td>\n",
              "      <td>579</td>\n",
              "      <td>85.905045</td>\n",
              "    </tr>\n",
              "    <tr>\n",
              "      <th>1</th>\n",
              "      <td>Gay/Bisexual</td>\n",
              "      <td>72</td>\n",
              "      <td>10.682493</td>\n",
              "    </tr>\n",
              "    <tr>\n",
              "      <th>2</th>\n",
              "      <td>Other</td>\n",
              "      <td>18</td>\n",
              "      <td>2.670623</td>\n",
              "    </tr>\n",
              "    <tr>\n",
              "      <th>3</th>\n",
              "      <td>No answer</td>\n",
              "      <td>5</td>\n",
              "      <td>0.741840</td>\n",
              "    </tr>\n",
              "  </tbody>\n",
              "</table>\n",
              "</div>"
            ],
            "text/plain": [
              "    orientation  count          %\n",
              "0      Straight    579  85.905045\n",
              "1  Gay/Bisexual     72  10.682493\n",
              "2         Other     18   2.670623\n",
              "3     No answer      5   0.741840"
            ]
          },
          "metadata": {},
          "execution_count": 26
        }
      ]
    },
    {
      "cell_type": "markdown",
      "source": [
        "![green-divider](https://user-images.githubusercontent.com/7065401/52071924-c003ad80-2562-11e9-8297-1c6595f8a7ff.png)"
      ],
      "metadata": {
        "id": "-6NRLs92KHOP"
      }
    },
    {
      "cell_type": "markdown",
      "source": [
        "#### Cluster 1"
      ],
      "metadata": {
        "id": "_vZXepI-dnat"
      }
    },
    {
      "cell_type": "code",
      "source": [
        "# check columns of rows that correspond to cluster 1\n",
        "cluster_one_df = df_survey.iloc[cluster_one_indices] \n",
        "\n",
        "# select columns\n",
        "cluster_one_df = cluster_one_df[['educ4', 'age3', 'kids', 'orientation']]\n",
        "\n",
        "cluster_one_df"
      ],
      "metadata": {
        "colab": {
          "base_uri": "https://localhost:8080/",
          "height": 424
        },
        "id": "Vk2lNzp4dtSI",
        "outputId": "b58501cc-1b28-4562-924d-40da82cd8046"
      },
      "execution_count": 20,
      "outputs": [
        {
          "output_type": "execute_result",
          "data": {
            "text/html": [
              "<div>\n",
              "<style scoped>\n",
              "    .dataframe tbody tr th:only-of-type {\n",
              "        vertical-align: middle;\n",
              "    }\n",
              "\n",
              "    .dataframe tbody tr th {\n",
              "        vertical-align: top;\n",
              "    }\n",
              "\n",
              "    .dataframe thead th {\n",
              "        text-align: right;\n",
              "    }\n",
              "</style>\n",
              "<table border=\"1\" class=\"dataframe\">\n",
              "  <thead>\n",
              "    <tr style=\"text-align: right;\">\n",
              "      <th></th>\n",
              "      <th>educ4</th>\n",
              "      <th>age3</th>\n",
              "      <th>kids</th>\n",
              "      <th>orientation</th>\n",
              "    </tr>\n",
              "  </thead>\n",
              "  <tbody>\n",
              "    <tr>\n",
              "      <th>1</th>\n",
              "      <td>Some college</td>\n",
              "      <td>65 and up</td>\n",
              "      <td>Has children</td>\n",
              "      <td>Straight</td>\n",
              "    </tr>\n",
              "    <tr>\n",
              "      <th>4</th>\n",
              "      <td>College or more</td>\n",
              "      <td>35 - 64</td>\n",
              "      <td>No children</td>\n",
              "      <td>Straight</td>\n",
              "    </tr>\n",
              "    <tr>\n",
              "      <th>6</th>\n",
              "      <td>Post graduate degree</td>\n",
              "      <td>18 - 34</td>\n",
              "      <td>Has children</td>\n",
              "      <td>Gay/Bisexual</td>\n",
              "    </tr>\n",
              "    <tr>\n",
              "      <th>7</th>\n",
              "      <td>College or more</td>\n",
              "      <td>65 and up</td>\n",
              "      <td>No children</td>\n",
              "      <td>Straight</td>\n",
              "    </tr>\n",
              "    <tr>\n",
              "      <th>9</th>\n",
              "      <td>Post graduate degree</td>\n",
              "      <td>35 - 64</td>\n",
              "      <td>No children</td>\n",
              "      <td>Straight</td>\n",
              "    </tr>\n",
              "    <tr>\n",
              "      <th>...</th>\n",
              "      <td>...</td>\n",
              "      <td>...</td>\n",
              "      <td>...</td>\n",
              "      <td>...</td>\n",
              "    </tr>\n",
              "    <tr>\n",
              "      <th>1036</th>\n",
              "      <td>Post graduate degree</td>\n",
              "      <td>65 and up</td>\n",
              "      <td>Has children</td>\n",
              "      <td>Straight</td>\n",
              "    </tr>\n",
              "    <tr>\n",
              "      <th>1037</th>\n",
              "      <td>Post graduate degree</td>\n",
              "      <td>65 and up</td>\n",
              "      <td>Has children</td>\n",
              "      <td>Straight</td>\n",
              "    </tr>\n",
              "    <tr>\n",
              "      <th>1039</th>\n",
              "      <td>Some college</td>\n",
              "      <td>35 - 64</td>\n",
              "      <td>Has children</td>\n",
              "      <td>Straight</td>\n",
              "    </tr>\n",
              "    <tr>\n",
              "      <th>1044</th>\n",
              "      <td>Some college</td>\n",
              "      <td>18 - 34</td>\n",
              "      <td>No children</td>\n",
              "      <td>Straight</td>\n",
              "    </tr>\n",
              "    <tr>\n",
              "      <th>1045</th>\n",
              "      <td>Some college</td>\n",
              "      <td>35 - 64</td>\n",
              "      <td>No children</td>\n",
              "      <td>Straight</td>\n",
              "    </tr>\n",
              "  </tbody>\n",
              "</table>\n",
              "<p>372 rows × 4 columns</p>\n",
              "</div>"
            ],
            "text/plain": [
              "                     educ4       age3          kids   orientation\n",
              "1             Some college  65 and up  Has children      Straight\n",
              "4          College or more    35 - 64   No children      Straight\n",
              "6     Post graduate degree    18 - 34  Has children  Gay/Bisexual\n",
              "7          College or more  65 and up   No children      Straight\n",
              "9     Post graduate degree    35 - 64   No children      Straight\n",
              "...                    ...        ...           ...           ...\n",
              "1036  Post graduate degree  65 and up  Has children      Straight\n",
              "1037  Post graduate degree  65 and up  Has children      Straight\n",
              "1039          Some college    35 - 64  Has children      Straight\n",
              "1044          Some college    18 - 34   No children      Straight\n",
              "1045          Some college    35 - 64   No children      Straight\n",
              "\n",
              "[372 rows x 4 columns]"
            ]
          },
          "metadata": {},
          "execution_count": 20
        }
      ]
    },
    {
      "cell_type": "markdown",
      "source": [
        "![green-divider](https://user-images.githubusercontent.com/7065401/52071924-c003ad80-2562-11e9-8297-1c6595f8a7ff.png)"
      ],
      "metadata": {
        "id": "2KPLeoM0eTjn"
      }
    },
    {
      "cell_type": "markdown",
      "source": [
        "##### Education"
      ],
      "metadata": {
        "id": "NAgM6WUveYOt"
      }
    },
    {
      "cell_type": "code",
      "source": [
        "# value counts of educ4 column\n",
        "education_1 = cluster_one_df['educ4'].value_counts().reset_index()\n",
        "\n",
        "# change column names\n",
        "education_1.columns = ['education', 'count']\n",
        "\n",
        "# %\n",
        "education_1['%'] = (education_1['count'] / len(cluster_one_df)) * 100\n",
        "\n",
        "education_1"
      ],
      "metadata": {
        "colab": {
          "base_uri": "https://localhost:8080/",
          "height": 175
        },
        "id": "KM2pyHomebXO",
        "outputId": "717bd109-fcd0-4ce2-805e-dd596f1388de"
      },
      "execution_count": 21,
      "outputs": [
        {
          "output_type": "execute_result",
          "data": {
            "text/html": [
              "<div>\n",
              "<style scoped>\n",
              "    .dataframe tbody tr th:only-of-type {\n",
              "        vertical-align: middle;\n",
              "    }\n",
              "\n",
              "    .dataframe tbody tr th {\n",
              "        vertical-align: top;\n",
              "    }\n",
              "\n",
              "    .dataframe thead th {\n",
              "        text-align: right;\n",
              "    }\n",
              "</style>\n",
              "<table border=\"1\" class=\"dataframe\">\n",
              "  <thead>\n",
              "    <tr style=\"text-align: right;\">\n",
              "      <th></th>\n",
              "      <th>education</th>\n",
              "      <th>count</th>\n",
              "      <th>%</th>\n",
              "    </tr>\n",
              "  </thead>\n",
              "  <tbody>\n",
              "    <tr>\n",
              "      <th>0</th>\n",
              "      <td>College or more</td>\n",
              "      <td>124</td>\n",
              "      <td>33.333333</td>\n",
              "    </tr>\n",
              "    <tr>\n",
              "      <th>1</th>\n",
              "      <td>Post graduate degree</td>\n",
              "      <td>124</td>\n",
              "      <td>33.333333</td>\n",
              "    </tr>\n",
              "    <tr>\n",
              "      <th>2</th>\n",
              "      <td>Some college</td>\n",
              "      <td>84</td>\n",
              "      <td>22.580645</td>\n",
              "    </tr>\n",
              "    <tr>\n",
              "      <th>3</th>\n",
              "      <td>High school or less</td>\n",
              "      <td>40</td>\n",
              "      <td>10.752688</td>\n",
              "    </tr>\n",
              "  </tbody>\n",
              "</table>\n",
              "</div>"
            ],
            "text/plain": [
              "              education  count          %\n",
              "0       College or more    124  33.333333\n",
              "1  Post graduate degree    124  33.333333\n",
              "2          Some college     84  22.580645\n",
              "3   High school or less     40  10.752688"
            ]
          },
          "metadata": {},
          "execution_count": 21
        }
      ]
    },
    {
      "cell_type": "markdown",
      "source": [
        "![green-divider](https://user-images.githubusercontent.com/7065401/52071924-c003ad80-2562-11e9-8297-1c6595f8a7ff.png)"
      ],
      "metadata": {
        "id": "JaJwqF60f04k"
      }
    },
    {
      "cell_type": "markdown",
      "source": [
        "##### Age"
      ],
      "metadata": {
        "id": "9InewA1Xf35T"
      }
    },
    {
      "cell_type": "code",
      "source": [
        "# value counts of age3 column\n",
        "age_1 = cluster_one_df['age3'].value_counts().reset_index()\n",
        "\n",
        "# set column names\n",
        "age_1.columns = ['age', 'count']\n",
        "\n",
        "# '%'\n",
        "age_1['%'] = (age_1['count'] / len(cluster_one_df)) * 100\n",
        "\n",
        "age_1"
      ],
      "metadata": {
        "colab": {
          "base_uri": "https://localhost:8080/",
          "height": 143
        },
        "id": "dCmgrv5of2oU",
        "outputId": "9617134b-9e51-4855-a8d5-6590a5ce8e98"
      },
      "execution_count": 22,
      "outputs": [
        {
          "output_type": "execute_result",
          "data": {
            "text/html": [
              "<div>\n",
              "<style scoped>\n",
              "    .dataframe tbody tr th:only-of-type {\n",
              "        vertical-align: middle;\n",
              "    }\n",
              "\n",
              "    .dataframe tbody tr th {\n",
              "        vertical-align: top;\n",
              "    }\n",
              "\n",
              "    .dataframe thead th {\n",
              "        text-align: right;\n",
              "    }\n",
              "</style>\n",
              "<table border=\"1\" class=\"dataframe\">\n",
              "  <thead>\n",
              "    <tr style=\"text-align: right;\">\n",
              "      <th></th>\n",
              "      <th>age</th>\n",
              "      <th>count</th>\n",
              "      <th>%</th>\n",
              "    </tr>\n",
              "  </thead>\n",
              "  <tbody>\n",
              "    <tr>\n",
              "      <th>0</th>\n",
              "      <td>65 and up</td>\n",
              "      <td>184</td>\n",
              "      <td>49.462366</td>\n",
              "    </tr>\n",
              "    <tr>\n",
              "      <th>1</th>\n",
              "      <td>35 - 64</td>\n",
              "      <td>159</td>\n",
              "      <td>42.741935</td>\n",
              "    </tr>\n",
              "    <tr>\n",
              "      <th>2</th>\n",
              "      <td>18 - 34</td>\n",
              "      <td>29</td>\n",
              "      <td>7.795699</td>\n",
              "    </tr>\n",
              "  </tbody>\n",
              "</table>\n",
              "</div>"
            ],
            "text/plain": [
              "         age  count          %\n",
              "0  65 and up    184  49.462366\n",
              "1    35 - 64    159  42.741935\n",
              "2    18 - 34     29   7.795699"
            ]
          },
          "metadata": {},
          "execution_count": 22
        }
      ]
    },
    {
      "cell_type": "markdown",
      "source": [
        "![green-divider](https://user-images.githubusercontent.com/7065401/52071924-c003ad80-2562-11e9-8297-1c6595f8a7ff.png)"
      ],
      "metadata": {
        "id": "5I5ZDs2FKKbS"
      }
    },
    {
      "cell_type": "markdown",
      "source": [
        "##### Orientation"
      ],
      "metadata": {
        "id": "5mkH7r7gKMlX"
      }
    },
    {
      "cell_type": "code",
      "source": [
        "# value counts of orientation column\n",
        "orientation_1 = cluster_one_df['orientation'].value_counts().reset_index()\n",
        "\n",
        "# change column names\n",
        "orientation_1.columns = ['orientation', 'count']\n",
        "\n",
        "# '%' column\n",
        "orientation_1['%'] = (orientation_1['count'] / len(cluster_one_df)) * 100\n",
        "\n",
        "orientation_1"
      ],
      "metadata": {
        "colab": {
          "base_uri": "https://localhost:8080/",
          "height": 143
        },
        "id": "8rQXEWlwKSfW",
        "outputId": "9496583f-215e-49ff-9d7a-688219887675"
      },
      "execution_count": 28,
      "outputs": [
        {
          "output_type": "execute_result",
          "data": {
            "text/html": [
              "<div>\n",
              "<style scoped>\n",
              "    .dataframe tbody tr th:only-of-type {\n",
              "        vertical-align: middle;\n",
              "    }\n",
              "\n",
              "    .dataframe tbody tr th {\n",
              "        vertical-align: top;\n",
              "    }\n",
              "\n",
              "    .dataframe thead th {\n",
              "        text-align: right;\n",
              "    }\n",
              "</style>\n",
              "<table border=\"1\" class=\"dataframe\">\n",
              "  <thead>\n",
              "    <tr style=\"text-align: right;\">\n",
              "      <th></th>\n",
              "      <th>orientation</th>\n",
              "      <th>count</th>\n",
              "      <th>%</th>\n",
              "    </tr>\n",
              "  </thead>\n",
              "  <tbody>\n",
              "    <tr>\n",
              "      <th>0</th>\n",
              "      <td>Straight</td>\n",
              "      <td>333</td>\n",
              "      <td>89.516129</td>\n",
              "    </tr>\n",
              "    <tr>\n",
              "      <th>1</th>\n",
              "      <td>Gay/Bisexual</td>\n",
              "      <td>36</td>\n",
              "      <td>9.677419</td>\n",
              "    </tr>\n",
              "    <tr>\n",
              "      <th>2</th>\n",
              "      <td>Other</td>\n",
              "      <td>3</td>\n",
              "      <td>0.806452</td>\n",
              "    </tr>\n",
              "  </tbody>\n",
              "</table>\n",
              "</div>"
            ],
            "text/plain": [
              "    orientation  count          %\n",
              "0      Straight    333  89.516129\n",
              "1  Gay/Bisexual     36   9.677419\n",
              "2         Other      3   0.806452"
            ]
          },
          "metadata": {},
          "execution_count": 28
        }
      ]
    },
    {
      "cell_type": "markdown",
      "source": [
        "![purple-divider](https://user-images.githubusercontent.com/7065401/52071927-c1cd7100-2562-11e9-908a-dde91ba14e59.png)"
      ],
      "metadata": {
        "id": "qZT0DiVdLzt_"
      }
    }
  ]
}