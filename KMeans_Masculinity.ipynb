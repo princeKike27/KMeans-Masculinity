{
  "nbformat": 4,
  "nbformat_minor": 0,
  "metadata": {
    "colab": {
      "name": "KMeans-Masculinity.ipynb",
      "provenance": [],
      "collapsed_sections": [],
      "authorship_tag": "ABX9TyNOuE1gtg2kxUpUpwzf7tEW",
      "include_colab_link": true
    },
    "kernelspec": {
      "name": "python3",
      "display_name": "Python 3"
    },
    "language_info": {
      "name": "python"
    }
  },
  "cells": [
    {
      "cell_type": "markdown",
      "metadata": {
        "id": "view-in-github",
        "colab_type": "text"
      },
      "source": [
        "<a href=\"https://colab.research.google.com/github/princeKike27/KMeans-Masculinity/blob/main/KMeans_Masculinity.ipynb\" target=\"_parent\"><img src=\"https://colab.research.google.com/assets/colab-badge.svg\" alt=\"Open In Colab\"/></a>"
      ]
    },
    {
      "cell_type": "markdown",
      "metadata": {
        "id": "cx8xC8HhLiaS"
      },
      "source": [
        "# KMeans - Masculinity\n",
        "\n",
        "For this project I analyzed from *FiveThirtyEight* about the way people think about masculinity. It was based on a survey ...."
      ]
    },
    {
      "cell_type": "markdown",
      "metadata": {
        "id": "_847a2EnM9aV"
      },
      "source": [
        "![purple-divider](https://user-images.githubusercontent.com/7065401/52071927-c1cd7100-2562-11e9-908a-dde91ba14e59.png)"
      ]
    },
    {
      "cell_type": "code",
      "metadata": {
        "id": "A_wJFH2GLeVL"
      },
      "source": [
        "# import modules\n",
        "import pandas as pd\n",
        "import numpy as np\n",
        "import matplotlib.pyplot as plt\n",
        "import seaborn as sns"
      ],
      "execution_count": 1,
      "outputs": []
    },
    {
      "cell_type": "code",
      "metadata": {
        "colab": {
          "base_uri": "https://localhost:8080/",
          "height": 401
        },
        "id": "bFGJFZU7OQ8w",
        "outputId": "919ea99d-42ae-447f-cae6-09718cbd6e73"
      },
      "source": [
        "# load data\n",
        "df_survey = pd.read_csv('https://raw.githubusercontent.com/princeKike27/KMeans-Masculinity/main/masculinity.csv')\n",
        "\n",
        "df_survey.head(3)"
      ],
      "execution_count": 2,
      "outputs": [
        {
          "output_type": "execute_result",
          "data": {
            "text/html": [
              "<div>\n",
              "<style scoped>\n",
              "    .dataframe tbody tr th:only-of-type {\n",
              "        vertical-align: middle;\n",
              "    }\n",
              "\n",
              "    .dataframe tbody tr th {\n",
              "        vertical-align: top;\n",
              "    }\n",
              "\n",
              "    .dataframe thead th {\n",
              "        text-align: right;\n",
              "    }\n",
              "</style>\n",
              "<table border=\"1\" class=\"dataframe\">\n",
              "  <thead>\n",
              "    <tr style=\"text-align: right;\">\n",
              "      <th></th>\n",
              "      <th>Unnamed: 0</th>\n",
              "      <th>StartDate</th>\n",
              "      <th>EndDate</th>\n",
              "      <th>q0001</th>\n",
              "      <th>q0002</th>\n",
              "      <th>q0004_0001</th>\n",
              "      <th>q0004_0002</th>\n",
              "      <th>q0004_0003</th>\n",
              "      <th>q0004_0004</th>\n",
              "      <th>q0004_0005</th>\n",
              "      <th>q0004_0006</th>\n",
              "      <th>q0005</th>\n",
              "      <th>q0007_0001</th>\n",
              "      <th>q0007_0002</th>\n",
              "      <th>q0007_0003</th>\n",
              "      <th>q0007_0004</th>\n",
              "      <th>q0007_0005</th>\n",
              "      <th>q0007_0006</th>\n",
              "      <th>q0007_0007</th>\n",
              "      <th>q0007_0008</th>\n",
              "      <th>q0007_0009</th>\n",
              "      <th>q0007_0010</th>\n",
              "      <th>q0007_0011</th>\n",
              "      <th>q0008_0001</th>\n",
              "      <th>q0008_0002</th>\n",
              "      <th>q0008_0003</th>\n",
              "      <th>q0008_0004</th>\n",
              "      <th>q0008_0005</th>\n",
              "      <th>q0008_0006</th>\n",
              "      <th>q0008_0007</th>\n",
              "      <th>q0008_0008</th>\n",
              "      <th>q0008_0009</th>\n",
              "      <th>q0008_0010</th>\n",
              "      <th>q0008_0011</th>\n",
              "      <th>q0008_0012</th>\n",
              "      <th>q0009</th>\n",
              "      <th>q0010_0001</th>\n",
              "      <th>q0010_0002</th>\n",
              "      <th>q0010_0003</th>\n",
              "      <th>q0010_0004</th>\n",
              "      <th>...</th>\n",
              "      <th>q0015</th>\n",
              "      <th>q0017</th>\n",
              "      <th>q0018</th>\n",
              "      <th>q0019_0001</th>\n",
              "      <th>q0019_0002</th>\n",
              "      <th>q0019_0003</th>\n",
              "      <th>q0019_0004</th>\n",
              "      <th>q0019_0005</th>\n",
              "      <th>q0019_0006</th>\n",
              "      <th>q0019_0007</th>\n",
              "      <th>q0020_0001</th>\n",
              "      <th>q0020_0002</th>\n",
              "      <th>q0020_0003</th>\n",
              "      <th>q0020_0004</th>\n",
              "      <th>q0020_0005</th>\n",
              "      <th>q0020_0006</th>\n",
              "      <th>q0021_0001</th>\n",
              "      <th>q0021_0002</th>\n",
              "      <th>q0021_0003</th>\n",
              "      <th>q0021_0004</th>\n",
              "      <th>q0022</th>\n",
              "      <th>q0024</th>\n",
              "      <th>q0025_0001</th>\n",
              "      <th>q0025_0002</th>\n",
              "      <th>q0025_0003</th>\n",
              "      <th>q0026</th>\n",
              "      <th>q0028</th>\n",
              "      <th>q0029</th>\n",
              "      <th>q0030</th>\n",
              "      <th>q0034</th>\n",
              "      <th>q0035</th>\n",
              "      <th>q0036</th>\n",
              "      <th>race2</th>\n",
              "      <th>racethn4</th>\n",
              "      <th>educ3</th>\n",
              "      <th>educ4</th>\n",
              "      <th>age3</th>\n",
              "      <th>kids</th>\n",
              "      <th>orientation</th>\n",
              "      <th>weight</th>\n",
              "    </tr>\n",
              "  </thead>\n",
              "  <tbody>\n",
              "    <tr>\n",
              "      <th>0</th>\n",
              "      <td>1</td>\n",
              "      <td>5/10/18 4:01</td>\n",
              "      <td>5/10/18 4:06</td>\n",
              "      <td>Somewhat masculine</td>\n",
              "      <td>Somewhat important</td>\n",
              "      <td>Not selected</td>\n",
              "      <td>Not selected</td>\n",
              "      <td>Not selected</td>\n",
              "      <td>Pop culture</td>\n",
              "      <td>Not selected</td>\n",
              "      <td>Not selected</td>\n",
              "      <td>Yes</td>\n",
              "      <td>Often</td>\n",
              "      <td>Often</td>\n",
              "      <td>Often</td>\n",
              "      <td>Often</td>\n",
              "      <td>Never, and not open to it</td>\n",
              "      <td>Never, and not open to it</td>\n",
              "      <td>Often</td>\n",
              "      <td>Sometimes</td>\n",
              "      <td>Sometimes</td>\n",
              "      <td>Never, and not open to it</td>\n",
              "      <td>Often</td>\n",
              "      <td>Not selected</td>\n",
              "      <td>Not selected</td>\n",
              "      <td>Your hair or hairline</td>\n",
              "      <td>Not selected</td>\n",
              "      <td>Not selected</td>\n",
              "      <td>Not selected</td>\n",
              "      <td>Not selected</td>\n",
              "      <td>Not selected</td>\n",
              "      <td>Your physical health</td>\n",
              "      <td>Your finances, including your current or futur...</td>\n",
              "      <td>Not selected</td>\n",
              "      <td>Not selected</td>\n",
              "      <td>Not employed, NOT looking for work</td>\n",
              "      <td>NaN</td>\n",
              "      <td>NaN</td>\n",
              "      <td>NaN</td>\n",
              "      <td>NaN</td>\n",
              "      <td>...</td>\n",
              "      <td>NaN</td>\n",
              "      <td>Yes</td>\n",
              "      <td>Sometimes</td>\n",
              "      <td>NaN</td>\n",
              "      <td>NaN</td>\n",
              "      <td>NaN</td>\n",
              "      <td>NaN</td>\n",
              "      <td>NaN</td>\n",
              "      <td>NaN</td>\n",
              "      <td>NaN</td>\n",
              "      <td>Read their physical body language to see if th...</td>\n",
              "      <td>Ask for a verbal confirmation of consent</td>\n",
              "      <td>Make a physical move to see how they react</td>\n",
              "      <td>Every situation is different</td>\n",
              "      <td>It isn?t always clear how to gauge someone?s i...</td>\n",
              "      <td>Not selected</td>\n",
              "      <td>Not selected</td>\n",
              "      <td>Not selected</td>\n",
              "      <td>Not selected</td>\n",
              "      <td>None of the above</td>\n",
              "      <td>No</td>\n",
              "      <td>Never married</td>\n",
              "      <td>Not selected</td>\n",
              "      <td>Not selected</td>\n",
              "      <td>No children</td>\n",
              "      <td>Gay</td>\n",
              "      <td>Hispanic</td>\n",
              "      <td>College graduate</td>\n",
              "      <td>New York</td>\n",
              "      <td>$0-$9,999</td>\n",
              "      <td>Middle Atlantic</td>\n",
              "      <td>Windows Desktop / Laptop</td>\n",
              "      <td>Non-white</td>\n",
              "      <td>Hispanic</td>\n",
              "      <td>College or more</td>\n",
              "      <td>College or more</td>\n",
              "      <td>35 - 64</td>\n",
              "      <td>No children</td>\n",
              "      <td>Gay/Bisexual</td>\n",
              "      <td>1.714026</td>\n",
              "    </tr>\n",
              "    <tr>\n",
              "      <th>1</th>\n",
              "      <td>2</td>\n",
              "      <td>5/10/18 6:30</td>\n",
              "      <td>5/10/18 6:53</td>\n",
              "      <td>Somewhat masculine</td>\n",
              "      <td>Somewhat important</td>\n",
              "      <td>Father or father figure(s)</td>\n",
              "      <td>Not selected</td>\n",
              "      <td>Not selected</td>\n",
              "      <td>Not selected</td>\n",
              "      <td>Not selected</td>\n",
              "      <td>Not selected</td>\n",
              "      <td>Yes</td>\n",
              "      <td>Rarely</td>\n",
              "      <td>Sometimes</td>\n",
              "      <td>Never, but open to it</td>\n",
              "      <td>Rarely</td>\n",
              "      <td>Never, and not open to it</td>\n",
              "      <td>Rarely</td>\n",
              "      <td>Never, and not open to it</td>\n",
              "      <td>Often</td>\n",
              "      <td>Never, and not open to it</td>\n",
              "      <td>Sometimes</td>\n",
              "      <td>No answer</td>\n",
              "      <td>Not selected</td>\n",
              "      <td>Your weight</td>\n",
              "      <td>Not selected</td>\n",
              "      <td>Not selected</td>\n",
              "      <td>Not selected</td>\n",
              "      <td>Not selected</td>\n",
              "      <td>Not selected</td>\n",
              "      <td>Your mental health</td>\n",
              "      <td>Your physical health</td>\n",
              "      <td>Not selected</td>\n",
              "      <td>Not selected</td>\n",
              "      <td>Not selected</td>\n",
              "      <td>Not employed-retired</td>\n",
              "      <td>NaN</td>\n",
              "      <td>NaN</td>\n",
              "      <td>NaN</td>\n",
              "      <td>NaN</td>\n",
              "      <td>...</td>\n",
              "      <td>NaN</td>\n",
              "      <td>No</td>\n",
              "      <td>Rarely</td>\n",
              "      <td>NaN</td>\n",
              "      <td>NaN</td>\n",
              "      <td>NaN</td>\n",
              "      <td>NaN</td>\n",
              "      <td>NaN</td>\n",
              "      <td>NaN</td>\n",
              "      <td>NaN</td>\n",
              "      <td>Not selected</td>\n",
              "      <td>Not selected</td>\n",
              "      <td>Not selected</td>\n",
              "      <td>Not selected</td>\n",
              "      <td>Not selected</td>\n",
              "      <td>Other (please specify)</td>\n",
              "      <td>Not selected</td>\n",
              "      <td>Not selected</td>\n",
              "      <td>Not selected</td>\n",
              "      <td>None of the above</td>\n",
              "      <td>No</td>\n",
              "      <td>Widowed</td>\n",
              "      <td>Not selected</td>\n",
              "      <td>Yes, one or more children 18 or older</td>\n",
              "      <td>Not selected</td>\n",
              "      <td>Straight</td>\n",
              "      <td>White</td>\n",
              "      <td>Some college</td>\n",
              "      <td>Ohio</td>\n",
              "      <td>$50,000-$74,999</td>\n",
              "      <td>East North Central</td>\n",
              "      <td>iOS Phone / Tablet</td>\n",
              "      <td>White</td>\n",
              "      <td>White</td>\n",
              "      <td>Some college</td>\n",
              "      <td>Some college</td>\n",
              "      <td>65 and up</td>\n",
              "      <td>Has children</td>\n",
              "      <td>Straight</td>\n",
              "      <td>1.247120</td>\n",
              "    </tr>\n",
              "    <tr>\n",
              "      <th>2</th>\n",
              "      <td>3</td>\n",
              "      <td>5/10/18 7:02</td>\n",
              "      <td>5/10/18 7:09</td>\n",
              "      <td>Very masculine</td>\n",
              "      <td>Not too important</td>\n",
              "      <td>Father or father figure(s)</td>\n",
              "      <td>Not selected</td>\n",
              "      <td>Not selected</td>\n",
              "      <td>Not selected</td>\n",
              "      <td>Not selected</td>\n",
              "      <td>Other (please specify)</td>\n",
              "      <td>No</td>\n",
              "      <td>Sometimes</td>\n",
              "      <td>Sometimes</td>\n",
              "      <td>Sometimes</td>\n",
              "      <td>Rarely</td>\n",
              "      <td>Never, but open to it</td>\n",
              "      <td>Often</td>\n",
              "      <td>Never, and not open to it</td>\n",
              "      <td>Rarely</td>\n",
              "      <td>Sometimes</td>\n",
              "      <td>Rarely</td>\n",
              "      <td>Never, and not open to it</td>\n",
              "      <td>Not selected</td>\n",
              "      <td>Not selected</td>\n",
              "      <td>Not selected</td>\n",
              "      <td>Not selected</td>\n",
              "      <td>Not selected</td>\n",
              "      <td>Not selected</td>\n",
              "      <td>Not selected</td>\n",
              "      <td>Not selected</td>\n",
              "      <td>Your physical health</td>\n",
              "      <td>Not selected</td>\n",
              "      <td>Not selected</td>\n",
              "      <td>Not selected</td>\n",
              "      <td>Employed, working full-time</td>\n",
              "      <td>Not selected</td>\n",
              "      <td>Not selected</td>\n",
              "      <td>Not selected</td>\n",
              "      <td>Not selected</td>\n",
              "      <td>...</td>\n",
              "      <td>No</td>\n",
              "      <td>Yes</td>\n",
              "      <td>Sometimes</td>\n",
              "      <td>NaN</td>\n",
              "      <td>NaN</td>\n",
              "      <td>NaN</td>\n",
              "      <td>NaN</td>\n",
              "      <td>NaN</td>\n",
              "      <td>NaN</td>\n",
              "      <td>NaN</td>\n",
              "      <td>Not selected</td>\n",
              "      <td>Not selected</td>\n",
              "      <td>Not selected</td>\n",
              "      <td>Every situation is different</td>\n",
              "      <td>Not selected</td>\n",
              "      <td>Not selected</td>\n",
              "      <td>Not selected</td>\n",
              "      <td>Not selected</td>\n",
              "      <td>Not selected</td>\n",
              "      <td>None of the above</td>\n",
              "      <td>No</td>\n",
              "      <td>Married</td>\n",
              "      <td>Not selected</td>\n",
              "      <td>Yes, one or more children 18 or older</td>\n",
              "      <td>Not selected</td>\n",
              "      <td>Straight</td>\n",
              "      <td>White</td>\n",
              "      <td>College graduate</td>\n",
              "      <td>Michigan</td>\n",
              "      <td>$50,000-$74,999</td>\n",
              "      <td>East North Central</td>\n",
              "      <td>Windows Desktop / Laptop</td>\n",
              "      <td>White</td>\n",
              "      <td>White</td>\n",
              "      <td>College or more</td>\n",
              "      <td>College or more</td>\n",
              "      <td>35 - 64</td>\n",
              "      <td>Has children</td>\n",
              "      <td>Straight</td>\n",
              "      <td>0.515746</td>\n",
              "    </tr>\n",
              "  </tbody>\n",
              "</table>\n",
              "<p>3 rows × 98 columns</p>\n",
              "</div>"
            ],
            "text/plain": [
              "   Unnamed: 0     StartDate       EndDate  ...          kids   orientation    weight\n",
              "0           1  5/10/18 4:01  5/10/18 4:06  ...   No children  Gay/Bisexual  1.714026\n",
              "1           2  5/10/18 6:30  5/10/18 6:53  ...  Has children      Straight  1.247120\n",
              "2           3  5/10/18 7:02  5/10/18 7:09  ...  Has children      Straight  0.515746\n",
              "\n",
              "[3 rows x 98 columns]"
            ]
          },
          "metadata": {},
          "execution_count": 2
        }
      ]
    },
    {
      "cell_type": "markdown",
      "metadata": {
        "id": "DY_trNvqPNvP"
      },
      "source": [
        "![green-divider](https://user-images.githubusercontent.com/7065401/52071924-c003ad80-2562-11e9-8297-1c6595f8a7ff.png)"
      ]
    },
    {
      "cell_type": "markdown",
      "metadata": {
        "id": "CKwXH752PSZ9"
      },
      "source": [
        "## Survey DataFrame"
      ]
    },
    {
      "cell_type": "code",
      "metadata": {
        "colab": {
          "base_uri": "https://localhost:8080/"
        },
        "id": "C629qX6vPDtJ",
        "outputId": "0dbe5d0e-b7de-4e39-9b33-2aa4413fa097"
      },
      "source": [
        "# check shape of df\n",
        "df_survey.shape"
      ],
      "execution_count": 3,
      "outputs": [
        {
          "output_type": "execute_result",
          "data": {
            "text/plain": [
              "(1189, 98)"
            ]
          },
          "metadata": {},
          "execution_count": 3
        }
      ]
    },
    {
      "cell_type": "code",
      "metadata": {
        "colab": {
          "base_uri": "https://localhost:8080/"
        },
        "id": "613_9n0IPe_A",
        "outputId": "e16debd1-5644-425b-97c7-7e638d5a74ca"
      },
      "source": [
        "# check column names\n",
        "df_survey.columns"
      ],
      "execution_count": 4,
      "outputs": [
        {
          "output_type": "execute_result",
          "data": {
            "text/plain": [
              "Index(['Unnamed: 0', 'StartDate', 'EndDate', 'q0001', 'q0002', 'q0004_0001',\n",
              "       'q0004_0002', 'q0004_0003', 'q0004_0004', 'q0004_0005', 'q0004_0006',\n",
              "       'q0005', 'q0007_0001', 'q0007_0002', 'q0007_0003', 'q0007_0004',\n",
              "       'q0007_0005', 'q0007_0006', 'q0007_0007', 'q0007_0008', 'q0007_0009',\n",
              "       'q0007_0010', 'q0007_0011', 'q0008_0001', 'q0008_0002', 'q0008_0003',\n",
              "       'q0008_0004', 'q0008_0005', 'q0008_0006', 'q0008_0007', 'q0008_0008',\n",
              "       'q0008_0009', 'q0008_0010', 'q0008_0011', 'q0008_0012', 'q0009',\n",
              "       'q0010_0001', 'q0010_0002', 'q0010_0003', 'q0010_0004', 'q0010_0005',\n",
              "       'q0010_0006', 'q0010_0007', 'q0010_0008', 'q0011_0001', 'q0011_0002',\n",
              "       'q0011_0003', 'q0011_0004', 'q0011_0005', 'q0012_0001', 'q0012_0002',\n",
              "       'q0012_0003', 'q0012_0004', 'q0012_0005', 'q0012_0006', 'q0012_0007',\n",
              "       'q0013', 'q0014', 'q0015', 'q0017', 'q0018', 'q0019_0001', 'q0019_0002',\n",
              "       'q0019_0003', 'q0019_0004', 'q0019_0005', 'q0019_0006', 'q0019_0007',\n",
              "       'q0020_0001', 'q0020_0002', 'q0020_0003', 'q0020_0004', 'q0020_0005',\n",
              "       'q0020_0006', 'q0021_0001', 'q0021_0002', 'q0021_0003', 'q0021_0004',\n",
              "       'q0022', 'q0024', 'q0025_0001', 'q0025_0002', 'q0025_0003', 'q0026',\n",
              "       'q0028', 'q0029', 'q0030', 'q0034', 'q0035', 'q0036', 'race2',\n",
              "       'racethn4', 'educ3', 'educ4', 'age3', 'kids', 'orientation', 'weight'],\n",
              "      dtype='object')"
            ]
          },
          "metadata": {},
          "execution_count": 4
        }
      ]
    },
    {
      "cell_type": "code",
      "metadata": {
        "colab": {
          "base_uri": "https://localhost:8080/",
          "height": 883
        },
        "id": "Xmmot2t5Ptkp",
        "outputId": "cdbca9be-40f9-4051-e2f9-fabcc3c68f8d"
      },
      "source": [
        "# check for missing values\n",
        "import missingno as msg\n",
        "\n",
        "msg.matrix(df_survey, figsize=(15,15))"
      ],
      "execution_count": 5,
      "outputs": [
        {
          "output_type": "execute_result",
          "data": {
            "text/plain": [
              "<matplotlib.axes._subplots.AxesSubplot at 0x7f2b954a8910>"
            ]
          },
          "metadata": {},
          "execution_count": 5
        },
        {
          "output_type": "display_data",
          "data": {
            "image/png": "[encoded data removed]",
            "text/plain": [
              "<Figure size 1080x1080 with 2 Axes>"
            ]
          },
          "metadata": {
            "needs_background": "light"
          }
        }
      ]
    },
    {
      "cell_type": "code",
      "metadata": {
        "colab": {
          "base_uri": "https://localhost:8080/"
        },
        "id": "3_2G3w9qQjmf",
        "outputId": "08d6bf5e-3e65-4ad9-f662-c9bd04c6f6b8"
      },
      "source": [
        "# identify columns with the highest null values\n",
        "\n",
        "for col in df_survey.columns: \n",
        "  print(f'{col}: {df_survey[col].isna().sum()}')"
      ],
      "execution_count": 6,
      "outputs": [
        {
          "output_type": "stream",
          "name": "stdout",
          "text": [
            "Unnamed: 0: 0\n",
            "StartDate: 0\n",
            "EndDate: 0\n",
            "q0001: 0\n",
            "q0002: 0\n",
            "q0004_0001: 0\n",
            "q0004_0002: 0\n",
            "q0004_0003: 0\n",
            "q0004_0004: 0\n",
            "q0004_0005: 0\n",
            "q0004_0006: 0\n",
            "q0005: 0\n",
            "q0007_0001: 0\n",
            "q0007_0002: 0\n",
            "q0007_0003: 0\n",
            "q0007_0004: 0\n",
            "q0007_0005: 0\n",
            "q0007_0006: 0\n",
            "q0007_0007: 0\n",
            "q0007_0008: 0\n",
            "q0007_0009: 0\n",
            "q0007_0010: 0\n",
            "q0007_0011: 0\n",
            "q0008_0001: 0\n",
            "q0008_0002: 0\n",
            "q0008_0003: 0\n",
            "q0008_0004: 0\n",
            "q0008_0005: 0\n",
            "q0008_0006: 0\n",
            "q0008_0007: 0\n",
            "q0008_0008: 0\n",
            "q0008_0009: 0\n",
            "q0008_0010: 0\n",
            "q0008_0011: 0\n",
            "q0008_0012: 0\n",
            "q0009: 0\n",
            "q0010_0001: 613\n",
            "q0010_0002: 613\n",
            "q0010_0003: 613\n",
            "q0010_0004: 613\n",
            "q0010_0005: 613\n",
            "q0010_0006: 613\n",
            "q0010_0007: 613\n",
            "q0010_0008: 613\n",
            "q0011_0001: 613\n",
            "q0011_0002: 613\n",
            "q0011_0003: 613\n",
            "q0011_0004: 613\n",
            "q0011_0005: 613\n",
            "q0012_0001: 613\n",
            "q0012_0002: 613\n",
            "q0012_0003: 613\n",
            "q0012_0004: 613\n",
            "q0012_0005: 613\n",
            "q0012_0006: 613\n",
            "q0012_0007: 613\n",
            "q0013: 1160\n",
            "q0014: 613\n",
            "q0015: 704\n",
            "q0017: 0\n",
            "q0018: 0\n",
            "q0019_0001: 264\n",
            "q0019_0002: 264\n",
            "q0019_0003: 264\n",
            "q0019_0004: 264\n",
            "q0019_0005: 264\n",
            "q0019_0006: 264\n",
            "q0019_0007: 264\n",
            "q0020_0001: 0\n",
            "q0020_0002: 0\n",
            "q0020_0003: 0\n",
            "q0020_0004: 0\n",
            "q0020_0005: 0\n",
            "q0020_0006: 0\n",
            "q0021_0001: 0\n",
            "q0021_0002: 0\n",
            "q0021_0003: 0\n",
            "q0021_0004: 0\n",
            "q0022: 0\n",
            "q0024: 0\n",
            "q0025_0001: 0\n",
            "q0025_0002: 0\n",
            "q0025_0003: 0\n",
            "q0026: 0\n",
            "q0028: 0\n",
            "q0029: 0\n",
            "q0030: 0\n",
            "q0034: 2\n",
            "q0035: 12\n",
            "q0036: 2\n",
            "race2: 0\n",
            "racethn4: 0\n",
            "educ3: 1\n",
            "educ4: 1\n",
            "age3: 1\n",
            "kids: 6\n",
            "orientation: 1\n",
            "weight: 1\n"
          ]
        }
      ]
    },
    {
      "cell_type": "markdown",
      "metadata": {
        "id": "Lnfu17uRqWCL"
      },
      "source": [
        "The questions that have the highest number of Null values are the ones that have the option to select all options that apply. For example question 10:    \n",
        "- In which of the following ways would you say it's an advantage to be a man at yur work right now?\n",
        "  - Men make more money\n",
        "  - Men are taken more seriously\n",
        "  - Men have more choice\n",
        "  - Men have more promotion/professional development opportunities\n",
        "  - Men are explicitly praised more often "
      ]
    },
    {
      "cell_type": "markdown",
      "metadata": {
        "id": "9eC16aXRoPxM"
      },
      "source": [
        "![green-divider](https://user-images.githubusercontent.com/7065401/52071924-c003ad80-2562-11e9-8297-1c6595f8a7ff.png)"
      ]
    },
    {
      "cell_type": "markdown",
      "metadata": {
        "id": "Z-VkeoHpnHi3"
      },
      "source": [
        "### Question 7 Analysis\n",
        "- How often would you say you do each of the following (Often, Sometimes rarely, Never, and not open to it)?\n",
        "    - ask a friend for professional advice\n",
        "    - ask a friend for presonal advice\n",
        "    - express physical affection to male friends, like hugging\n",
        "    - cry\n",
        "    - get in a physical fight with another person\n",
        "    - have sexual relations with women, including anything from kissing to sex\n",
        "    - have sexual relations with men, including anything from kissing to sex\n"
      ]
    },
    {
      "cell_type": "code",
      "metadata": {
        "id": "VQ4ElxZOr-dk",
        "colab": {
          "base_uri": "https://localhost:8080/"
        },
        "outputId": "a6ea21b7-a9e3-452a-e983-74869472d93b"
      },
      "source": [
        "# check different answers for each subquestion in question 7\n",
        "sub_q = 'q0007_000'\n",
        "\n",
        "for i in range(1,8):\n",
        "  # get subquestion\n",
        "  q = sub_q + str(i)\n",
        "\n",
        "  print(q)\n",
        "  print(df_survey[q].value_counts())\n",
        "  print('\\n')\n",
        "  \n"
      ],
      "execution_count": 11,
      "outputs": [
        {
          "output_type": "stream",
          "name": "stdout",
          "text": [
            "q0007_0001\n",
            "Sometimes                    537\n",
            "Rarely                       324\n",
            "Often                        142\n",
            "Never, but open to it        123\n",
            "Never, and not open to it     53\n",
            "No answer                     10\n",
            "Name: q0007_0001, dtype: int64\n",
            "\n",
            "\n",
            "q0007_0002\n",
            "Sometimes                    514\n",
            "Rarely                       387\n",
            "Often                        123\n",
            "Never, but open to it        101\n",
            "Never, and not open to it     50\n",
            "No answer                     14\n",
            "Name: q0007_0002, dtype: int64\n",
            "\n",
            "\n",
            "q0007_0003\n",
            "Sometimes                    364\n",
            "Rarely                       339\n",
            "Never, and not open to it    224\n",
            "Often                        166\n",
            "Never, but open to it         85\n",
            "No answer                     11\n",
            "Name: q0007_0003, dtype: int64\n",
            "\n",
            "\n",
            "q0007_0004\n",
            "Rarely                       505\n",
            "Sometimes                    371\n",
            "Never, but open to it        121\n",
            "Never, and not open to it     78\n",
            "No answer                     71\n",
            "Often                         43\n",
            "Name: q0007_0004, dtype: int64\n",
            "\n",
            "\n",
            "q0007_0005\n",
            "Never, and not open to it    710\n",
            "Never, but open to it        228\n",
            "Rarely                       217\n",
            "Sometimes                     22\n",
            "Often                          7\n",
            "No answer                      5\n",
            "Name: q0007_0005, dtype: int64\n",
            "\n",
            "\n",
            "q0007_0006\n",
            "Often                        427\n",
            "Sometimes                    384\n",
            "Rarely                       155\n",
            "Never, and not open to it    102\n",
            "Never, but open to it         91\n",
            "No answer                     30\n",
            "Name: q0007_0006, dtype: int64\n",
            "\n",
            "\n",
            "q0007_0007\n",
            "Never, and not open to it    1001\n",
            "Never, but open to it          60\n",
            "Sometimes                      41\n",
            "Often                          39\n",
            "Rarely                         31\n",
            "No answer                      17\n",
            "Name: q0007_0007, dtype: int64\n",
            "\n",
            "\n"
          ]
        }
      ]
    },
    {
      "cell_type": "markdown",
      "metadata": {
        "id": "OK2R1-ApoWuk"
      },
      "source": [
        "![green-divider](https://user-images.githubusercontent.com/7065401/52071924-c003ad80-2562-11e9-8297-1c6595f8a7ff.png)"
      ]
    },
    {
      "cell_type": "markdown",
      "metadata": {
        "id": "YO-00tD7oXgd"
      },
      "source": [
        "#### Mapping Answers of Question 7\n",
        "\n",
        "- The answers of the different subquestions will be mapped to numbers so they can be used in the *KMeans* model. They are ordinal categorical variables so their number counterparts will resemble this organization\n",
        "\n",
        "  - Often >> 4\n",
        "  - Sometimes >> 3\n",
        "  - Rarely >> 2\n",
        "  - Never, but open to it >> 1\n",
        "  - Never, and not open to it >> 0"
      ]
    },
    {
      "cell_type": "code",
      "metadata": {
        "colab": {
          "base_uri": "https://localhost:8080/"
        },
        "id": "FvYgYDyZqK6i",
        "outputId": "e647bec6-56e1-4a98-a2b3-7c138d0cd54e"
      },
      "source": [
        "# create question variable\n",
        "question = 'q0007_000'\n",
        "\n",
        "# loop through each subquestion \n",
        "for i in range(1, 8):\n",
        "  q = question + str(i)\n",
        "  df_survey[q] = df_survey[q].map({'Never, and not open to it': 0,\n",
        "                                   'Never, but open to it': 1,\n",
        "                                   'Rarely': 2,\n",
        "                                   'Sometimes': 3,\n",
        "                                   'Often': 4})\n",
        "  print(q)\n",
        "  print(df_survey[q].value_counts())\n",
        "  print('\\n')"
      ],
      "execution_count": 12,
      "outputs": [
        {
          "output_type": "stream",
          "name": "stdout",
          "text": [
            "q0007_0001\n",
            "3.0    537\n",
            "2.0    324\n",
            "4.0    142\n",
            "1.0    123\n",
            "0.0     53\n",
            "Name: q0007_0001, dtype: int64\n",
            "\n",
            "\n",
            "q0007_0002\n",
            "3.0    514\n",
            "2.0    387\n",
            "4.0    123\n",
            "1.0    101\n",
            "0.0     50\n",
            "Name: q0007_0002, dtype: int64\n",
            "\n",
            "\n",
            "q0007_0003\n",
            "3.0    364\n",
            "2.0    339\n",
            "0.0    224\n",
            "4.0    166\n",
            "1.0     85\n",
            "Name: q0007_0003, dtype: int64\n",
            "\n",
            "\n",
            "q0007_0004\n",
            "2.0    505\n",
            "3.0    371\n",
            "1.0    121\n",
            "0.0     78\n",
            "4.0     43\n",
            "Name: q0007_0004, dtype: int64\n",
            "\n",
            "\n",
            "q0007_0005\n",
            "0.0    710\n",
            "1.0    228\n",
            "2.0    217\n",
            "3.0     22\n",
            "4.0      7\n",
            "Name: q0007_0005, dtype: int64\n",
            "\n",
            "\n",
            "q0007_0006\n",
            "4.0    427\n",
            "3.0    384\n",
            "2.0    155\n",
            "0.0    102\n",
            "1.0     91\n",
            "Name: q0007_0006, dtype: int64\n",
            "\n",
            "\n",
            "q0007_0007\n",
            "0.0    1001\n",
            "1.0      60\n",
            "3.0      41\n",
            "4.0      39\n",
            "2.0      31\n",
            "Name: q0007_0007, dtype: int64\n",
            "\n",
            "\n"
          ]
        }
      ]
    },
    {
      "cell_type": "code",
      "metadata": {
        "colab": {
          "base_uri": "https://localhost:8080/",
          "height": 424
        },
        "id": "3RpUW0UzxBap",
        "outputId": "cceef26f-865d-490f-c134-8ac613644f82"
      },
      "source": [
        "# check data mapped\n",
        "df_survey[['q0007_0001', 'q0007_0002', 'q0007_0003', 'q0007_0004', 'q0007_0005', 'q0007_0006', 'q0007_0007']]"
      ],
      "execution_count": 24,
      "outputs": [
        {
          "output_type": "execute_result",
          "data": {
            "text/html": [
              "<div>\n",
              "<style scoped>\n",
              "    .dataframe tbody tr th:only-of-type {\n",
              "        vertical-align: middle;\n",
              "    }\n",
              "\n",
              "    .dataframe tbody tr th {\n",
              "        vertical-align: top;\n",
              "    }\n",
              "\n",
              "    .dataframe thead th {\n",
              "        text-align: right;\n",
              "    }\n",
              "</style>\n",
              "<table border=\"1\" class=\"dataframe\">\n",
              "  <thead>\n",
              "    <tr style=\"text-align: right;\">\n",
              "      <th></th>\n",
              "      <th>q0007_0001</th>\n",
              "      <th>q0007_0002</th>\n",
              "      <th>q0007_0003</th>\n",
              "      <th>q0007_0004</th>\n",
              "      <th>q0007_0005</th>\n",
              "      <th>q0007_0006</th>\n",
              "      <th>q0007_0007</th>\n",
              "    </tr>\n",
              "  </thead>\n",
              "  <tbody>\n",
              "    <tr>\n",
              "      <th>0</th>\n",
              "      <td>4.0</td>\n",
              "      <td>4.0</td>\n",
              "      <td>4.0</td>\n",
              "      <td>4.0</td>\n",
              "      <td>0.0</td>\n",
              "      <td>0.0</td>\n",
              "      <td>4.0</td>\n",
              "    </tr>\n",
              "    <tr>\n",
              "      <th>1</th>\n",
              "      <td>2.0</td>\n",
              "      <td>3.0</td>\n",
              "      <td>1.0</td>\n",
              "      <td>2.0</td>\n",
              "      <td>0.0</td>\n",
              "      <td>2.0</td>\n",
              "      <td>0.0</td>\n",
              "    </tr>\n",
              "    <tr>\n",
              "      <th>2</th>\n",
              "      <td>3.0</td>\n",
              "      <td>3.0</td>\n",
              "      <td>3.0</td>\n",
              "      <td>2.0</td>\n",
              "      <td>1.0</td>\n",
              "      <td>4.0</td>\n",
              "      <td>0.0</td>\n",
              "    </tr>\n",
              "    <tr>\n",
              "      <th>3</th>\n",
              "      <td>2.0</td>\n",
              "      <td>2.0</td>\n",
              "      <td>3.0</td>\n",
              "      <td>2.0</td>\n",
              "      <td>2.0</td>\n",
              "      <td>4.0</td>\n",
              "      <td>0.0</td>\n",
              "    </tr>\n",
              "    <tr>\n",
              "      <th>4</th>\n",
              "      <td>3.0</td>\n",
              "      <td>2.0</td>\n",
              "      <td>0.0</td>\n",
              "      <td>1.0</td>\n",
              "      <td>1.0</td>\n",
              "      <td>3.0</td>\n",
              "      <td>0.0</td>\n",
              "    </tr>\n",
              "    <tr>\n",
              "      <th>...</th>\n",
              "      <td>...</td>\n",
              "      <td>...</td>\n",
              "      <td>...</td>\n",
              "      <td>...</td>\n",
              "      <td>...</td>\n",
              "      <td>...</td>\n",
              "      <td>...</td>\n",
              "    </tr>\n",
              "    <tr>\n",
              "      <th>1184</th>\n",
              "      <td>3.0</td>\n",
              "      <td>3.0</td>\n",
              "      <td>4.0</td>\n",
              "      <td>3.0</td>\n",
              "      <td>3.0</td>\n",
              "      <td>3.0</td>\n",
              "      <td>3.0</td>\n",
              "    </tr>\n",
              "    <tr>\n",
              "      <th>1185</th>\n",
              "      <td>3.0</td>\n",
              "      <td>3.0</td>\n",
              "      <td>2.0</td>\n",
              "      <td>2.0</td>\n",
              "      <td>1.0</td>\n",
              "      <td>4.0</td>\n",
              "      <td>0.0</td>\n",
              "    </tr>\n",
              "    <tr>\n",
              "      <th>1186</th>\n",
              "      <td>4.0</td>\n",
              "      <td>3.0</td>\n",
              "      <td>0.0</td>\n",
              "      <td>3.0</td>\n",
              "      <td>2.0</td>\n",
              "      <td>4.0</td>\n",
              "      <td>0.0</td>\n",
              "    </tr>\n",
              "    <tr>\n",
              "      <th>1187</th>\n",
              "      <td>1.0</td>\n",
              "      <td>1.0</td>\n",
              "      <td>0.0</td>\n",
              "      <td>0.0</td>\n",
              "      <td>3.0</td>\n",
              "      <td>3.0</td>\n",
              "      <td>0.0</td>\n",
              "    </tr>\n",
              "    <tr>\n",
              "      <th>1188</th>\n",
              "      <td>2.0</td>\n",
              "      <td>2.0</td>\n",
              "      <td>2.0</td>\n",
              "      <td>0.0</td>\n",
              "      <td>0.0</td>\n",
              "      <td>3.0</td>\n",
              "      <td>0.0</td>\n",
              "    </tr>\n",
              "  </tbody>\n",
              "</table>\n",
              "<p>1189 rows × 7 columns</p>\n",
              "</div>"
            ],
            "text/plain": [
              "      q0007_0001  q0007_0002  q0007_0003  ...  q0007_0005  q0007_0006  q0007_0007\n",
              "0            4.0         4.0         4.0  ...         0.0         0.0         4.0\n",
              "1            2.0         3.0         1.0  ...         0.0         2.0         0.0\n",
              "2            3.0         3.0         3.0  ...         1.0         4.0         0.0\n",
              "3            2.0         2.0         3.0  ...         2.0         4.0         0.0\n",
              "4            3.0         2.0         0.0  ...         1.0         3.0         0.0\n",
              "...          ...         ...         ...  ...         ...         ...         ...\n",
              "1184         3.0         3.0         4.0  ...         3.0         3.0         3.0\n",
              "1185         3.0         3.0         2.0  ...         1.0         4.0         0.0\n",
              "1186         4.0         3.0         0.0  ...         2.0         4.0         0.0\n",
              "1187         1.0         1.0         0.0  ...         3.0         3.0         0.0\n",
              "1188         2.0         2.0         2.0  ...         0.0         3.0         0.0\n",
              "\n",
              "[1189 rows x 7 columns]"
            ]
          },
          "metadata": {},
          "execution_count": 24
        }
      ]
    },
    {
      "cell_type": "markdown",
      "metadata": {
        "id": "zYYT9RjFrz5P"
      },
      "source": [
        "![green-divider](https://user-images.githubusercontent.com/7065401/52071924-c003ad80-2562-11e9-8297-1c6595f8a7ff.png)"
      ]
    },
    {
      "cell_type": "markdown",
      "metadata": {
        "id": "nZxdxRuBvKe_"
      },
      "source": [
        "#### Plotting the Data"
      ]
    },
    {
      "cell_type": "markdown",
      "metadata": {
        "id": "x-QAXpZor36p"
      },
      "source": [
        "##### Cry Vs Getting in a Physical fight"
      ]
    },
    {
      "cell_type": "code",
      "metadata": {
        "colab": {
          "base_uri": "https://localhost:8080/",
          "height": 410
        },
        "id": "MOiwi1AvsNMZ",
        "outputId": "9ba85d54-54e6-492d-8270-545dd0a1c7ea"
      },
      "source": [
        "# list to store questions header for plot axis\n",
        "questions_headers = ['Ask a friend for professional advice', 'Ask a friend for personal advice', \\\n",
        "                     'Express physical affection to male friends', 'Cry', 'Get in a physical fight', \\\n",
        "                     'Have sexual relations with women', 'Have sexual relations with men']\n",
        "\n",
        "# scatterplot Cry Vs Get in a physical fight\n",
        "f, ax = plt.subplots(figsize=(12,6))\n",
        "\n",
        "sns.scatterplot(x=df_survey['q0007_0004'], y=df_survey['q0007_0005'], alpha=0.1, color='crimson')\n",
        "plt.xlabel('Cry')\n",
        "plt.ylabel('Get in a physical fight')\n",
        "\n",
        "plt.title('Cry Vs Get in a Physical Fight', pad=12)\n",
        "\n",
        "plt.show()"
      ],
      "execution_count": 19,
      "outputs": [
        {
          "output_type": "display_data",
          "data": {
            "image/png": "[encoded data removed]",
            "text/plain": [
              "<Figure size 864x432 with 1 Axes>"
            ]
          },
          "metadata": {
            "needs_background": "light"
          }
        }
      ]
    },
    {
      "cell_type": "markdown",
      "metadata": {
        "id": "VLiONZZkvNaw"
      },
      "source": [
        "![green-divider](https://user-images.githubusercontent.com/7065401/52071924-c003ad80-2562-11e9-8297-1c6595f8a7ff.png)"
      ]
    },
    {
      "cell_type": "markdown",
      "metadata": {
        "id": "JGxu1PhivnG7"
      },
      "source": [
        "##### Ask a Friend for Personal Advice Vs Have Sexual Relationships with Women"
      ]
    },
    {
      "cell_type": "code",
      "metadata": {
        "colab": {
          "base_uri": "https://localhost:8080/",
          "height": 410
        },
        "id": "onvOd70jvM2W",
        "outputId": "cb97f78c-6023-4c55-e48c-725fbe8bec5b"
      },
      "source": [
        "# ScatterPlot Ask a Friend for Personal Advice Vs Having Sexual Relationships with Women\n",
        "\n",
        "f, ax = plt.subplots(figsize=(12,6))\n",
        "\n",
        "sns.scatterplot(x=df_survey['q0007_0001'], y=df_survey['q0007_0006'], alpha=0.1, color='purple')\n",
        "plt.xlabel('Ask a Friend for Personal Advice')\n",
        "plt.ylabel('Having Sexual Relationships with Women')\n",
        "\n",
        "plt.title('Ask a Friend for Personal Advice Vs Having Sexual Relationships with Women', pad=12)\n",
        "plt.show()"
      ],
      "execution_count": 23,
      "outputs": [
        {
          "output_type": "display_data",
          "data": {
            "image/png": "[encoded data removed]",
            "text/plain": [
              "<Figure size 864x432 with 1 Axes>"
            ]
          },
          "metadata": {
            "needs_background": "light"
          }
        }
      ]
    },
    {
      "cell_type": "markdown",
      "metadata": {
        "id": "r50z6OSUxePf"
      },
      "source": [
        "![green-divider](https://user-images.githubusercontent.com/7065401/52071924-c003ad80-2562-11e9-8297-1c6595f8a7ff.png)"
      ]
    },
    {
      "cell_type": "markdown",
      "metadata": {
        "id": "TRingnDKxg4W"
      },
      "source": [
        "##### Multiple Scatter Plots"
      ]
    },
    {
      "cell_type": "code",
      "metadata": {
        "colab": {
          "base_uri": "https://localhost:8080/",
          "height": 497
        },
        "id": "_ivL9BSIyFaL",
        "outputId": "ce4c68d1-b198-4c42-dcba-6939fee32c6d"
      },
      "source": [
        "# variable to store question\n",
        "question = 'q0007_000'\n",
        "\n",
        "# create plot grid\n",
        "fig = plt.figure(figsize=(25,16))\n",
        "\n",
        "for i in range(1,8):\n",
        "  if i != 7:\n",
        "    q1 = question + str(i)\n",
        "    q2 = question + str(i+1)\n",
        "\n",
        "    # plot scatterplot in assigned position\n",
        "    ax = plt.subplot(3,3,i)\n",
        "    sns.scatterplot(x=df_survey[q1], y=df_survey[q2], alpha=0.1, color='dodgerblue')\n",
        "    plt.xlabel(questions_headers[i-1])\n",
        "    plt.ylabel(questions_headers[i])\n",
        "\n",
        "\n",
        "\n",
        "plt.show()"
      ],
      "execution_count": 27,
      "outputs": [
        {
          "output_type": "display_data",
          "data": {
            "image/png": "[encoded data removed]",
            "text/plain": [
              "<Figure size 1800x1152 with 6 Axes>"
            ]
          },
          "metadata": {
            "needs_background": "light"
          }
        }
      ]
    },
    {
      "cell_type": "markdown",
      "metadata": {
        "id": "M6I4OYWF3rUU"
      },
      "source": [
        "Above can be seen the scatterplots of the different features when compared against each other.  \n",
        "\n",
        "- In scatterplot 1 we can see that men who often and sometimes ask a friend for professional advice will also often ask a friend for personal advice.\n",
        "\n",
        "- In scatterplot 5 we can observe that men who often get in a physical fight are having less sexual relations with women. On the other hand, men who rarely or never but open to engage in a fight have more often sexual realtions with women.\n",
        "\n",
        "- In scatterplot 6 we can conclude that men who often have sexual relationships with women would never (not open to) having sexual relationships with men. On the same track are men who often have sexual relationships with other men they, would never (not open to) having sexual relationships with women."
      ]
    },
    {
      "cell_type": "markdown",
      "metadata": {
        "id": "N7OsJJKm67y-"
      },
      "source": [
        "![green-divider](https://user-images.githubusercontent.com/7065401/52071924-c003ad80-2562-11e9-8297-1c6595f8a7ff.png)"
      ]
    }
  ]
}